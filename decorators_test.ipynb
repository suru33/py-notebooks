{
 "cells": [
  {
   "cell_type": "markdown",
   "metadata": {},
   "source": [
    "## Decorator without argument"
   ]
  },
  {
   "cell_type": "code",
   "execution_count": 74,
   "metadata": {},
   "outputs": [],
   "source": [
    "def cool():\n",
    "    print('Start: cool')\n",
    "    \n",
    "    def super_cool():\n",
    "        return \"I'm super cool\"\n",
    "    \n",
    "    print('End: cool')\n",
    "    \n",
    "    return super_cool"
   ]
  },
  {
   "cell_type": "code",
   "execution_count": 75,
   "metadata": {},
   "outputs": [
    {
     "name": "stdout",
     "output_type": "stream",
     "text": [
      "Start: cool\n",
      "End: cool\n"
     ]
    },
    {
     "data": {
      "text/plain": [
       "\"I'm super cool\""
      ]
     },
     "execution_count": 75,
     "metadata": {},
     "output_type": "execute_result"
    }
   ],
   "source": [
    "cool()()"
   ]
  },
  {
   "cell_type": "code",
   "execution_count": 76,
   "metadata": {},
   "outputs": [
    {
     "name": "stdout",
     "output_type": "stream",
     "text": [
      "Start: cool\n",
      "End: cool\n"
     ]
    },
    {
     "data": {
      "text/plain": [
       "<function __main__.cool.<locals>.super_cool()>"
      ]
     },
     "execution_count": 76,
     "metadata": {},
     "output_type": "execute_result"
    }
   ],
   "source": [
    "cool()"
   ]
  },
  {
   "cell_type": "code",
   "execution_count": 77,
   "metadata": {},
   "outputs": [],
   "source": [
    "def cool_decorator(function):\n",
    "    \n",
    "    def wrapper():\n",
    "        print('started wrapping!')\n",
    "        function()\n",
    "        print('wrapping complete!')\n",
    "        \n",
    "    return wrapper"
   ]
  },
  {
   "cell_type": "code",
   "execution_count": 78,
   "metadata": {},
   "outputs": [],
   "source": [
    "@cool_decorator\n",
    "def i_need_it():\n",
    "    print(\"I want decorator!\")"
   ]
  },
  {
   "cell_type": "code",
   "execution_count": 79,
   "metadata": {},
   "outputs": [
    {
     "name": "stdout",
     "output_type": "stream",
     "text": [
      "started wrapping!\n",
      "I want decorator!\n",
      "wrapping complete!\n"
     ]
    }
   ],
   "source": [
    "i_need_it()"
   ]
  },
  {
   "cell_type": "markdown",
   "metadata": {},
   "source": [
    "## Decorator with argument"
   ]
  },
  {
   "cell_type": "code",
   "execution_count": 90,
   "metadata": {},
   "outputs": [],
   "source": [
    "def very_cool_decorator(function):\n",
    "    \n",
    "    print('Something will happen :-)')\n",
    "    \n",
    "    # wrapper with argument\n",
    "    def wrapper(name='Poppy'):\n",
    "        print(\"Started wrapping\")\n",
    "        print('Hey', name, 'How are you?')\n",
    "        \n",
    "        # do what ever you want with actual function\n",
    "        function(name)\n",
    "        print(\"Wrapping end\")\n",
    "    \n",
    "    return wrapper"
   ]
  },
  {
   "cell_type": "code",
   "execution_count": 91,
   "metadata": {},
   "outputs": [
    {
     "name": "stdout",
     "output_type": "stream",
     "text": [
      "Something will happen :-)\n"
     ]
    }
   ],
   "source": [
    "@very_cool_decorator\n",
    "# actual function argument\n",
    "def i_need_very_cool(name='Jack'):\n",
    "    print(name, \"is GOOD!... you Ugly DECORATOR\")\n",
    "    print(\"I need very cool decorator!\")"
   ]
  },
  {
   "cell_type": "code",
   "execution_count": 92,
   "metadata": {},
   "outputs": [
    {
     "name": "stdout",
     "output_type": "stream",
     "text": [
      "Started wrapping\n",
      "Hey Wick How are you?\n",
      "Wick is GOOD!... you Ugly DECORATOR\n",
      "I need very cool decorator!\n",
      "Wrapping end\n"
     ]
    }
   ],
   "source": [
    "i_need_very_cool('Wick')"
   ]
  },
  {
   "cell_type": "code",
   "execution_count": null,
   "metadata": {},
   "outputs": [],
   "source": []
  }
 ],
 "metadata": {
  "kernelspec": {
   "display_name": "Python 3",
   "language": "python",
   "name": "python3"
  },
  "language_info": {
   "codemirror_mode": {
    "name": "ipython",
    "version": 3
   },
   "file_extension": ".py",
   "mimetype": "text/x-python",
   "name": "python",
   "nbconvert_exporter": "python",
   "pygments_lexer": "ipython3",
   "version": "3.6.7"
  }
 },
 "nbformat": 4,
 "nbformat_minor": 2
}
