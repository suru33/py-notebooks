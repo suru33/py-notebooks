{
 "cells": [
  {
   "cell_type": "code",
   "execution_count": 12,
   "metadata": {},
   "outputs": [],
   "source": [
    "import re"
   ]
  },
  {
   "cell_type": "code",
   "execution_count": 13,
   "metadata": {},
   "outputs": [],
   "source": [
    "url = \"\"\"\n",
    "https://www.google.com/maps/place/Unity+Helsinki/@60.1555072,24.9135016,16.55z/data=!4m9!3m8!1s0x46920a4dccb5e58f:0x40d6d6de64b37344!5m2!4m1!1i2!8m2!3d60.1579986!4d24.9125691!16s%2Fg%2F11swzhn07_?entry=ttu\n",
    "\"\"\""
   ]
  },
  {
   "cell_type": "code",
   "execution_count": 10,
   "metadata": {},
   "outputs": [],
   "source": [
    "regex = re.compile(r\"\\@(-?\\d+\\.?\\d+),(-?\\d+\\.?\\d+)\")"
   ]
  },
  {
   "cell_type": "code",
   "execution_count": 11,
   "metadata": {},
   "outputs": [
    {
     "name": "stdout",
     "output_type": "stream",
     "text": [
      "60.1555072 24.9135016\n",
      "exiftool -gpslatitude=60.1555072 -gpslongitude=24.9135016 -gpslatituderef=N -gpslongituderef=E test.jpg\n"
     ]
    }
   ],
   "source": [
    "match = regex.findall(url)\n",
    "if match:\n",
    "    (lat, lng) = match[0]\n",
    "    print(lat, lng)\n",
    "    print(f\"exiftool -gpslatitude={lat} -gpslongitude={lng} -gpslatituderef=N -gpslongituderef=E test.jpg\")"
   ]
  },
  {
   "cell_type": "code",
   "execution_count": null,
   "metadata": {},
   "outputs": [],
   "source": []
  }
 ],
 "metadata": {
  "kernelspec": {
   "display_name": ".venv",
   "language": "python",
   "name": "python3"
  },
  "language_info": {
   "codemirror_mode": {
    "name": "ipython",
    "version": 3
   },
   "file_extension": ".py",
   "mimetype": "text/x-python",
   "name": "python",
   "nbconvert_exporter": "python",
   "pygments_lexer": "ipython3",
   "version": "3.12.3"
  }
 },
 "nbformat": 4,
 "nbformat_minor": 2
}
