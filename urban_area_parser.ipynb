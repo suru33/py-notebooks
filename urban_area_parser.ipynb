{
 "cells": [
  {
   "cell_type": "code",
   "execution_count": 1,
   "metadata": {},
   "outputs": [],
   "source": [
    "import json"
   ]
  },
  {
   "cell_type": "code",
   "execution_count": 3,
   "metadata": {},
   "outputs": [],
   "source": [
    "import requests"
   ]
  },
  {
   "cell_type": "code",
   "execution_count": 4,
   "metadata": {},
   "outputs": [],
   "source": [
    "uas = json.loads(requests.get(\"http://s3.amazonaws.com/teleport-reference-data/urban_areas.json\").content)"
   ]
  },
  {
   "cell_type": "code",
   "execution_count": 5,
   "metadata": {},
   "outputs": [
    {
     "data": {
      "text/plain": [
       "dict_keys(['66jcb', '69y7n', '6cb13', '6ex00', '6fet4', '6gj7p', '6gkzq', '6gyf4', '6mc5r', '6mpd1', '6rbnt', '75cm8', '87z9p', '9ewmx', '9fxek', '9g3w8', '9mudj', '9q5ct', '9q60w', '9q8yy', '9q9jh', '9qqjg', '9rb6x', '9rv25', '9tbq3', '9v1zq', '9v6kp', '9vg4m', '9vk1m', '9vrfq', '9whpt', '9wvky', '9x0rv', '9xj5s', '9xj65', '9xjqb', '9y69u', '9ypzy', '9yuwr', '9yzge', '9z7f8', '9zmkt', '9zvxv', 'bdvkk', 'c20fb', 'c23nb', 'c2878', 'c2b2n', 'c3nf7', 'c3x29', 'c815c', 'c9k0s', 'cbfgv', 'd1u0w', 'd1x7n', 'd2g64', 'd3478', 'd42tf', 'd44tj', 'd5179', 'd71qk', 'd7q1p', 'd9b7w', 'de2cp', 'dhj7t', 'dhvqg', 'dhwfx', 'djfq8', 'djgzz', 'djmut', 'djn4k', 'djz4m', 'dn5r6', 'dn6m9', 'dng18', 'dngyy', 'dnkkd', 'dnm69', 'dnq82', 'dp3wn', 'dp4dp', 'dp8mj', 'dp9kz', 'dphgr', 'dpmuh', 'dppn5', 'dpsby', 'dpxgv', 'dpz83', 'dq25d', 'dq8vt', 'dqcjq', 'dqcx8', 'dr4e3', 'dr5rs', 'dr8v9', 'drmjy', 'drt2z', 'dry03', 'dxfvc', 'esvpc', 'evfx4', 'eycs0', 'eyeu8', 'eykjw', 'eysbg', 'ez3fh', 'ezjmg', 'ezp8x', 'eztyj', 'ezzx4', 'f244m', 'f25dv', 'f2m67', 'gbqus', 'gc1zp', 'gc3x4', 'gc7x3', 'gcey9', 'gcjsz', 'gcmzu', 'gcnhs', 'gcpch', 'gcpn7', 'gcpvj', 'gcqds', 'gcuvz', 'gcvwr', 'gcw2j', 'gcwfh', 'ge2ku', 'k3vng', 'ke7fy', 'kygcj', 'kzf0t', 'qd66h', 'qqgux', 'qw3yv', 'r1f93', 'r1r0f', 'r3gx3', 'r7hgd', 'rb6b2', 'rbsm1', 'rckq2', 's14kt', 'snx1r', 'sp3e3', 'sp91f', 'spc00', 'spey6', 'spv0t', 'spv2b', 'spzcp', 'sq6k4', 'sr2yk', 'sr60k', 'srbj4', 'srq54', 'srrnz', 'srt9q', 'srv16', 'srywc', 'stq5p', 'sv8wx', 'swbb5', 'swr8p', 'sx0r1', 'sx8df', 'sxfsc', 'sxk97', 'sxp75', 'sy10z', 'szpss', 'szrv5', 'tdr1v', 'te7ud', 'tepfc', 'tf346', 'th3hr', 'thkxu', 'thrrd', 'tnke4', 'tp5mt', 'ttnfv', 'tuutt', 'tx34z', 'txwwn', 'u05kq', 'u09tv', 'u0h0f', 'u0hqg', 'u0j2q', 'u0k8w', 'u0m71', 'u0nd9', 'u0qj6', 'u0qu0', 'u0tyz', 'u0u65', 'u0wt8', 'u0yjj', 'u120f', 'u140j', 'u1517', 'u15pm', 'u15us', 'u1703', 'u173z', 'u178k', 'u1hcy', 'u1hg6', 'u1qcv', 'u1x0e', 'u1zr2', 'u22hg', 'u24mf', 'u25ke', 'u281z', 'u2edk', 'u2ezc', 'u2fkb', 'u2mw1', 'u2s1v', 'u2yhv', 'u30u1', 'u31f2', 'u33db', 'u3buy', 'u3chr', 'u3h4e', 'u3qcn', 'u3tm0', 'u4ez9', 'u4xsu', 'u6282', 'u6sc7', 'u6ss9', 'u6xzf', 'u82f1', 'u8c5d', 'u8ke2', 'u8vxn', 'u99zp', 'u9ede', 'ucfv0', 'ud15u', 'ud7h0', 'ud9d5', 'ud9wr', 'udbvv', 'udtsc', 'ued1g', 'w1muz', 'w21z7', 'w283c', 'w3gvd', 'w4rqn', 'w5q6u', 'w649g', 'wdw51', 'wecnt', 'wsqqq', 'wtw3s', 'wvuxp', 'wx4g0', 'wydm9', 'xn0m7', 'xn0x1', 'xn774'])"
      ]
     },
     "execution_count": 5,
     "metadata": {},
     "output_type": "execute_result"
    }
   ],
   "source": [
    "uas.keys()"
   ]
  },
  {
   "cell_type": "code",
   "execution_count": 6,
   "metadata": {},
   "outputs": [],
   "source": [
    "my_slug = 'new-york'"
   ]
  },
  {
   "cell_type": "code",
   "execution_count": 8,
   "metadata": {},
   "outputs": [],
   "source": [
    "ua = None\n",
    "for k in uas.keys():\n",
    "    if uas[k]['slug'] == my_slug:\n",
    "        ua = uas[k]\n",
    "        break"
   ]
  },
  {
   "cell_type": "code",
   "execution_count": 9,
   "metadata": {},
   "outputs": [
    {
     "data": {
      "text/plain": [
       "{'bounding_box': {'east': -73.226,\n",
       "  'north': 41.097,\n",
       "  'south': 40.345,\n",
       "  'west': -74.501},\n",
       " 'city': 'New York City',\n",
       " 'continent': 'North America',\n",
       " 'country': 'United States',\n",
       " 'country_code_iso2': 'US',\n",
       " 'country_code_iso3': 'USA',\n",
       " 'display_label': 'New York',\n",
       " 'full_name': 'New York, New York',\n",
       " 'geonames_id': '5128581',\n",
       " 'latitude': 40.7305991,\n",
       " 'longitude': -73.9865812,\n",
       " 'mayor': 'Bill de Blasio',\n",
       " 'slug': 'new-york',\n",
       " 'state': 'New York',\n",
       " 'state_code': 'NY'}"
      ]
     },
     "execution_count": 9,
     "metadata": {},
     "output_type": "execute_result"
    }
   ],
   "source": [
    "ua"
   ]
  },
  {
   "cell_type": "code",
   "execution_count": 10,
   "metadata": {},
   "outputs": [],
   "source": [
    "if ua:\n",
    "    bbox = ua['bounding_box']"
   ]
  },
  {
   "cell_type": "code",
   "execution_count": 11,
   "metadata": {},
   "outputs": [
    {
     "data": {
      "text/plain": [
       "{'east': -73.226, 'north': 41.097, 'south': 40.345, 'west': -74.501}"
      ]
     },
     "execution_count": 11,
     "metadata": {},
     "output_type": "execute_result"
    }
   ],
   "source": [
    "bbox"
   ]
  },
  {
   "cell_type": "code",
   "execution_count": null,
   "metadata": {},
   "outputs": [],
   "source": []
  }
 ],
 "metadata": {
  "kernelspec": {
   "display_name": "Python 3",
   "language": "python",
   "name": "python3"
  },
  "language_info": {
   "codemirror_mode": {
    "name": "ipython",
    "version": 3
   },
   "file_extension": ".py",
   "mimetype": "text/x-python",
   "name": "python",
   "nbconvert_exporter": "python",
   "pygments_lexer": "ipython3",
   "version": "3.6.7"
  }
 },
 "nbformat": 4,
 "nbformat_minor": 2
}
