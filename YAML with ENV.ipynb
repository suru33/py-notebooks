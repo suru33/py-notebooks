{
 "cells": [
  {
   "cell_type": "code",
   "execution_count": 11,
   "metadata": {},
   "outputs": [],
   "source": [
    "import yaml\n",
    "import json\n",
    "import re\n",
    "import os"
   ]
  },
  {
   "cell_type": "code",
   "execution_count": 12,
   "metadata": {},
   "outputs": [],
   "source": [
    "r = re.compile(r\"^\\$\\{(.+)\\}$\")"
   ]
  },
  {
   "cell_type": "code",
   "execution_count": 13,
   "metadata": {},
   "outputs": [],
   "source": [
    "with open('yaml_files/example-env.yaml', 'r') as f:\n",
    "    y = yaml.load(f.read())"
   ]
  },
  {
   "cell_type": "code",
   "execution_count": 14,
   "metadata": {},
   "outputs": [
    {
     "name": "stdout",
     "output_type": "stream",
     "text": [
      "{\n",
      "  \"env\": [\n",
      "    {\n",
      "      \"ENV\": \"${ENV}\"\n",
      "    },\n",
      "    {\n",
      "      \"USER\": \"Surendra\"\n",
      "    },\n",
      "    {\n",
      "      \"OBJC_DISABLE_INITIALIZE_FORK_SAFETY\": \"${OBJC_DISABLE_INITIALIZE_FORK_SAFETY}\"\n",
      "    },\n",
      "    {\n",
      "      \"SHARED_VOL\": \"${SHARED_VOL}\"\n",
      "    },\n",
      "    {\n",
      "      \"S3_CACHE_DIR\": \"${S3_CACHE_DIR}\"\n",
      "    },\n",
      "    {\n",
      "      \"COLOR\": \"${LSCOLORS}\"\n",
      "    },\n",
      "    {\n",
      "      \"FAIL\": \"${NOKEY}\"\n",
      "    }\n",
      "  ]\n",
      "}\n"
     ]
    }
   ],
   "source": [
    "print(json.dumps(y, indent=2))"
   ]
  },
  {
   "cell_type": "code",
   "execution_count": 15,
   "metadata": {},
   "outputs": [
    {
     "name": "stdout",
     "output_type": "stream",
     "text": [
      "ENV : ${ENV}\n",
      "ENV : test\n",
      "------------------------\n",
      "USER : Surendra\n",
      "------------------------\n",
      "OBJC_DISABLE_INITIALIZE_FORK_SAFETY : ${OBJC_DISABLE_INITIALIZE_FORK_SAFETY}\n",
      "OBJC_DISABLE_INITIALIZE_FORK_SAFETY : YES\n",
      "------------------------\n",
      "SHARED_VOL : ${SHARED_VOL}\n",
      "SHARED_VOL : /Users/surendra/sharedvol\n",
      "------------------------\n",
      "S3_CACHE_DIR : ${S3_CACHE_DIR}\n",
      "S3_CACHE_DIR : /Users/surendra/.fetcher/cache\n",
      "------------------------\n",
      "COLOR : ${LSCOLORS}\n",
      "LSCOLORS : Gxfxcxdxbxegedabagacad\n",
      "------------------------\n",
      "FAIL : ${NOKEY}\n",
      "------------------------\n"
     ]
    }
   ],
   "source": [
    "for i in y['env']:\n",
    "    if type(i) is dict and len(i) is 1:\n",
    "        k = next(iter(i))\n",
    "        v = i[k]\n",
    "        print(k, ':', v)\n",
    "        gr = r.search(v)\n",
    "        if gr:\n",
    "            env_key = gr.group(1)\n",
    "            env_val = os.environ.get(env_key, None)\n",
    "            if env_val:\n",
    "                print(env_key, ':', env_val)\n",
    "                i[k] = env_val\n",
    "        print('------------------------')"
   ]
  },
  {
   "cell_type": "code",
   "execution_count": 16,
   "metadata": {},
   "outputs": [
    {
     "name": "stdout",
     "output_type": "stream",
     "text": [
      "{\n",
      "  \"env\": [\n",
      "    {\n",
      "      \"ENV\": \"test\"\n",
      "    },\n",
      "    {\n",
      "      \"USER\": \"Surendra\"\n",
      "    },\n",
      "    {\n",
      "      \"OBJC_DISABLE_INITIALIZE_FORK_SAFETY\": \"YES\"\n",
      "    },\n",
      "    {\n",
      "      \"SHARED_VOL\": \"/Users/surendra/sharedvol\"\n",
      "    },\n",
      "    {\n",
      "      \"S3_CACHE_DIR\": \"/Users/surendra/.fetcher/cache\"\n",
      "    },\n",
      "    {\n",
      "      \"COLOR\": \"Gxfxcxdxbxegedabagacad\"\n",
      "    },\n",
      "    {\n",
      "      \"FAIL\": \"${NOKEY}\"\n",
      "    }\n",
      "  ]\n",
      "}\n"
     ]
    }
   ],
   "source": [
    "print(json.dumps(y, indent=2))"
   ]
  },
  {
   "cell_type": "code",
   "execution_count": 17,
   "metadata": {},
   "outputs": [
    {
     "name": "stdout",
     "output_type": "stream",
     "text": [
      "env:\n",
      "- ENV: test\n",
      "- USER: Surendra\n",
      "- OBJC_DISABLE_INITIALIZE_FORK_SAFETY: 'YES'\n",
      "- SHARED_VOL: /Users/surendra/sharedvol\n",
      "- S3_CACHE_DIR: /Users/surendra/.fetcher/cache\n",
      "- COLOR: Gxfxcxdxbxegedabagacad\n",
      "- FAIL: ${NOKEY}\n",
      "\n"
     ]
    }
   ],
   "source": [
    "print(yaml.dump(y,  default_flow_style=False))"
   ]
  },
  {
   "cell_type": "code",
   "execution_count": null,
   "metadata": {},
   "outputs": [],
   "source": []
  }
 ],
 "metadata": {
  "kernelspec": {
   "display_name": "Python 3",
   "language": "python",
   "name": "python3"
  },
  "language_info": {
   "codemirror_mode": {
    "name": "ipython",
    "version": 3
   },
   "file_extension": ".py",
   "mimetype": "text/x-python",
   "name": "python",
   "nbconvert_exporter": "python",
   "pygments_lexer": "ipython3",
   "version": "3.6.7"
  }
 },
 "nbformat": 4,
 "nbformat_minor": 2
}
