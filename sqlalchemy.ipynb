{
 "cells": [
  {
   "cell_type": "code",
   "execution_count": 1,
   "metadata": {},
   "outputs": [],
   "source": [
    "from sqlalchemy import create_engine, __version__"
   ]
  },
  {
   "cell_type": "code",
   "execution_count": 2,
   "metadata": {},
   "outputs": [
    {
     "data": {
      "text/plain": [
       "'1.1.18'"
      ]
     },
     "execution_count": 2,
     "metadata": {},
     "output_type": "execute_result"
    }
   ],
   "source": [
    "__version__"
   ]
  },
  {
   "cell_type": "markdown",
   "metadata": {},
   "source": [
    "`echo=True` for debugging SQL"
   ]
  },
  {
   "cell_type": "code",
   "execution_count": 3,
   "metadata": {},
   "outputs": [],
   "source": [
    "url = 'sqlite:///datasets/Chinook_Sqlite.sqlite'\n",
    "engine = create_engine(url, echo=True)"
   ]
  },
  {
   "cell_type": "code",
   "execution_count": 4,
   "metadata": {},
   "outputs": [
    {
     "name": "stdout",
     "output_type": "stream",
     "text": [
      "2019-06-19 12:17:07,888 INFO sqlalchemy.engine.base.Engine SELECT CAST('test plain returns' AS VARCHAR(60)) AS anon_1\n",
      "2019-06-19 12:17:07,889 INFO sqlalchemy.engine.base.Engine ()\n",
      "2019-06-19 12:17:07,892 INFO sqlalchemy.engine.base.Engine SELECT CAST('test unicode returns' AS VARCHAR(60)) AS anon_1\n",
      "2019-06-19 12:17:07,892 INFO sqlalchemy.engine.base.Engine ()\n",
      "2019-06-19 12:17:07,894 INFO sqlalchemy.engine.base.Engine SELECT name FROM sqlite_master WHERE type='table' ORDER BY name\n",
      "2019-06-19 12:17:07,895 INFO sqlalchemy.engine.base.Engine ()\n"
     ]
    },
    {
     "data": {
      "text/plain": [
       "['Album',\n",
       " 'Artist',\n",
       " 'Customer',\n",
       " 'Employee',\n",
       " 'Genre',\n",
       " 'Invoice',\n",
       " 'InvoiceLine',\n",
       " 'MediaType',\n",
       " 'Playlist',\n",
       " 'PlaylistTrack',\n",
       " 'Track']"
      ]
     },
     "execution_count": 4,
     "metadata": {},
     "output_type": "execute_result"
    }
   ],
   "source": [
    "engine.table_names()"
   ]
  },
  {
   "cell_type": "markdown",
   "metadata": {},
   "source": [
    "---\n",
    "### Reflection\n",
    "Reflection reads database and builds SQLAlchemy Table objects"
   ]
  },
  {
   "cell_type": "code",
   "execution_count": 5,
   "metadata": {},
   "outputs": [],
   "source": [
    "from sqlalchemy import MetaData, Table"
   ]
  },
  {
   "cell_type": "code",
   "execution_count": 6,
   "metadata": {},
   "outputs": [],
   "source": [
    "metadata = MetaData()"
   ]
  },
  {
   "cell_type": "markdown",
   "metadata": {},
   "source": [
    "SQLAlchemy Table object for existing table `Track`"
   ]
  },
  {
   "cell_type": "code",
   "execution_count": 7,
   "metadata": {
    "scrolled": false
   },
   "outputs": [
    {
     "name": "stdout",
     "output_type": "stream",
     "text": [
      "2019-06-19 12:20:38,475 INFO sqlalchemy.engine.base.Engine PRAGMA table_info(\"Track\")\n",
      "2019-06-19 12:20:38,476 INFO sqlalchemy.engine.base.Engine ()\n",
      "2019-06-19 12:20:38,479 INFO sqlalchemy.engine.base.Engine SELECT sql FROM  (SELECT * FROM sqlite_master UNION ALL   SELECT * FROM sqlite_temp_master) WHERE name = 'Track' AND type = 'table'\n",
      "2019-06-19 12:20:38,480 INFO sqlalchemy.engine.base.Engine ()\n",
      "2019-06-19 12:20:38,482 INFO sqlalchemy.engine.base.Engine PRAGMA foreign_key_list(\"Track\")\n",
      "2019-06-19 12:20:38,482 INFO sqlalchemy.engine.base.Engine ()\n",
      "2019-06-19 12:20:38,485 INFO sqlalchemy.engine.base.Engine SELECT sql FROM  (SELECT * FROM sqlite_master UNION ALL   SELECT * FROM sqlite_temp_master) WHERE name = 'Track' AND type = 'table'\n",
      "2019-06-19 12:20:38,485 INFO sqlalchemy.engine.base.Engine ()\n",
      "2019-06-19 12:20:38,489 INFO sqlalchemy.engine.base.Engine PRAGMA table_info(\"MediaType\")\n",
      "2019-06-19 12:20:38,490 INFO sqlalchemy.engine.base.Engine ()\n",
      "2019-06-19 12:20:38,492 INFO sqlalchemy.engine.base.Engine SELECT sql FROM  (SELECT * FROM sqlite_master UNION ALL   SELECT * FROM sqlite_temp_master) WHERE name = 'MediaType' AND type = 'table'\n",
      "2019-06-19 12:20:38,493 INFO sqlalchemy.engine.base.Engine ()\n",
      "2019-06-19 12:20:38,495 INFO sqlalchemy.engine.base.Engine PRAGMA foreign_key_list(\"MediaType\")\n",
      "2019-06-19 12:20:38,496 INFO sqlalchemy.engine.base.Engine ()\n",
      "2019-06-19 12:20:38,497 INFO sqlalchemy.engine.base.Engine SELECT sql FROM  (SELECT * FROM sqlite_master UNION ALL   SELECT * FROM sqlite_temp_master) WHERE name = 'MediaType' AND type = 'table'\n",
      "2019-06-19 12:20:38,498 INFO sqlalchemy.engine.base.Engine ()\n",
      "2019-06-19 12:20:38,499 INFO sqlalchemy.engine.base.Engine PRAGMA index_list(\"MediaType\")\n",
      "2019-06-19 12:20:38,500 INFO sqlalchemy.engine.base.Engine ()\n",
      "2019-06-19 12:20:38,502 INFO sqlalchemy.engine.base.Engine PRAGMA index_info(\"IPK_MediaType\")\n",
      "2019-06-19 12:20:38,503 INFO sqlalchemy.engine.base.Engine ()\n",
      "2019-06-19 12:20:38,505 INFO sqlalchemy.engine.base.Engine PRAGMA index_list(\"MediaType\")\n",
      "2019-06-19 12:20:38,506 INFO sqlalchemy.engine.base.Engine ()\n",
      "2019-06-19 12:20:38,507 INFO sqlalchemy.engine.base.Engine PRAGMA index_info(\"IPK_MediaType\")\n",
      "2019-06-19 12:20:38,508 INFO sqlalchemy.engine.base.Engine ()\n",
      "2019-06-19 12:20:38,509 INFO sqlalchemy.engine.base.Engine SELECT sql FROM  (SELECT * FROM sqlite_master UNION ALL   SELECT * FROM sqlite_temp_master) WHERE name = 'MediaType' AND type = 'table'\n",
      "2019-06-19 12:20:38,510 INFO sqlalchemy.engine.base.Engine ()\n",
      "2019-06-19 12:20:38,514 INFO sqlalchemy.engine.base.Engine PRAGMA table_info(\"Genre\")\n",
      "2019-06-19 12:20:38,515 INFO sqlalchemy.engine.base.Engine ()\n",
      "2019-06-19 12:20:38,518 INFO sqlalchemy.engine.base.Engine SELECT sql FROM  (SELECT * FROM sqlite_master UNION ALL   SELECT * FROM sqlite_temp_master) WHERE name = 'Genre' AND type = 'table'\n",
      "2019-06-19 12:20:38,518 INFO sqlalchemy.engine.base.Engine ()\n",
      "2019-06-19 12:20:38,521 INFO sqlalchemy.engine.base.Engine PRAGMA foreign_key_list(\"Genre\")\n",
      "2019-06-19 12:20:38,522 INFO sqlalchemy.engine.base.Engine ()\n",
      "2019-06-19 12:20:38,524 INFO sqlalchemy.engine.base.Engine SELECT sql FROM  (SELECT * FROM sqlite_master UNION ALL   SELECT * FROM sqlite_temp_master) WHERE name = 'Genre' AND type = 'table'\n",
      "2019-06-19 12:20:38,525 INFO sqlalchemy.engine.base.Engine ()\n",
      "2019-06-19 12:20:38,527 INFO sqlalchemy.engine.base.Engine PRAGMA index_list(\"Genre\")\n",
      "2019-06-19 12:20:38,528 INFO sqlalchemy.engine.base.Engine ()\n",
      "2019-06-19 12:20:38,530 INFO sqlalchemy.engine.base.Engine PRAGMA index_info(\"IPK_Genre\")\n",
      "2019-06-19 12:20:38,530 INFO sqlalchemy.engine.base.Engine ()\n",
      "2019-06-19 12:20:38,532 INFO sqlalchemy.engine.base.Engine PRAGMA index_list(\"Genre\")\n",
      "2019-06-19 12:20:38,533 INFO sqlalchemy.engine.base.Engine ()\n",
      "2019-06-19 12:20:38,534 INFO sqlalchemy.engine.base.Engine PRAGMA index_info(\"IPK_Genre\")\n",
      "2019-06-19 12:20:38,536 INFO sqlalchemy.engine.base.Engine ()\n",
      "2019-06-19 12:20:38,538 INFO sqlalchemy.engine.base.Engine SELECT sql FROM  (SELECT * FROM sqlite_master UNION ALL   SELECT * FROM sqlite_temp_master) WHERE name = 'Genre' AND type = 'table'\n",
      "2019-06-19 12:20:38,539 INFO sqlalchemy.engine.base.Engine ()\n",
      "2019-06-19 12:20:38,541 INFO sqlalchemy.engine.base.Engine PRAGMA table_info(\"Album\")\n",
      "2019-06-19 12:20:38,542 INFO sqlalchemy.engine.base.Engine ()\n",
      "2019-06-19 12:20:38,544 INFO sqlalchemy.engine.base.Engine SELECT sql FROM  (SELECT * FROM sqlite_master UNION ALL   SELECT * FROM sqlite_temp_master) WHERE name = 'Album' AND type = 'table'\n",
      "2019-06-19 12:20:38,544 INFO sqlalchemy.engine.base.Engine ()\n",
      "2019-06-19 12:20:38,545 INFO sqlalchemy.engine.base.Engine PRAGMA foreign_key_list(\"Album\")\n",
      "2019-06-19 12:20:38,547 INFO sqlalchemy.engine.base.Engine ()\n",
      "2019-06-19 12:20:38,550 INFO sqlalchemy.engine.base.Engine SELECT sql FROM  (SELECT * FROM sqlite_master UNION ALL   SELECT * FROM sqlite_temp_master) WHERE name = 'Album' AND type = 'table'\n",
      "2019-06-19 12:20:38,550 INFO sqlalchemy.engine.base.Engine ()\n",
      "2019-06-19 12:20:38,552 INFO sqlalchemy.engine.base.Engine PRAGMA table_info(\"Artist\")\n",
      "2019-06-19 12:20:38,552 INFO sqlalchemy.engine.base.Engine ()\n",
      "2019-06-19 12:20:38,555 INFO sqlalchemy.engine.base.Engine SELECT sql FROM  (SELECT * FROM sqlite_master UNION ALL   SELECT * FROM sqlite_temp_master) WHERE name = 'Artist' AND type = 'table'\n",
      "2019-06-19 12:20:38,557 INFO sqlalchemy.engine.base.Engine ()\n",
      "2019-06-19 12:20:38,559 INFO sqlalchemy.engine.base.Engine PRAGMA foreign_key_list(\"Artist\")\n",
      "2019-06-19 12:20:38,560 INFO sqlalchemy.engine.base.Engine ()\n",
      "2019-06-19 12:20:38,562 INFO sqlalchemy.engine.base.Engine SELECT sql FROM  (SELECT * FROM sqlite_master UNION ALL   SELECT * FROM sqlite_temp_master) WHERE name = 'Artist' AND type = 'table'\n",
      "2019-06-19 12:20:38,563 INFO sqlalchemy.engine.base.Engine ()\n",
      "2019-06-19 12:20:38,565 INFO sqlalchemy.engine.base.Engine PRAGMA index_list(\"Artist\")\n",
      "2019-06-19 12:20:38,566 INFO sqlalchemy.engine.base.Engine ()\n",
      "2019-06-19 12:20:38,567 INFO sqlalchemy.engine.base.Engine PRAGMA index_info(\"IPK_Artist\")\n",
      "2019-06-19 12:20:38,568 INFO sqlalchemy.engine.base.Engine ()\n",
      "2019-06-19 12:20:38,572 INFO sqlalchemy.engine.base.Engine PRAGMA index_list(\"Artist\")\n",
      "2019-06-19 12:20:38,573 INFO sqlalchemy.engine.base.Engine ()\n",
      "2019-06-19 12:20:38,574 INFO sqlalchemy.engine.base.Engine PRAGMA index_info(\"IPK_Artist\")\n",
      "2019-06-19 12:20:38,575 INFO sqlalchemy.engine.base.Engine ()\n",
      "2019-06-19 12:20:38,577 INFO sqlalchemy.engine.base.Engine SELECT sql FROM  (SELECT * FROM sqlite_master UNION ALL   SELECT * FROM sqlite_temp_master) WHERE name = 'Artist' AND type = 'table'\n",
      "2019-06-19 12:20:38,578 INFO sqlalchemy.engine.base.Engine ()\n",
      "2019-06-19 12:20:38,580 INFO sqlalchemy.engine.base.Engine PRAGMA index_list(\"Album\")\n",
      "2019-06-19 12:20:38,581 INFO sqlalchemy.engine.base.Engine ()\n",
      "2019-06-19 12:20:38,582 INFO sqlalchemy.engine.base.Engine PRAGMA index_info(\"IFK_AlbumArtistId\")\n",
      "2019-06-19 12:20:38,583 INFO sqlalchemy.engine.base.Engine ()\n",
      "2019-06-19 12:20:38,584 INFO sqlalchemy.engine.base.Engine PRAGMA index_info(\"IPK_Album\")\n",
      "2019-06-19 12:20:38,586 INFO sqlalchemy.engine.base.Engine ()\n",
      "2019-06-19 12:20:38,587 INFO sqlalchemy.engine.base.Engine PRAGMA index_list(\"Album\")\n",
      "2019-06-19 12:20:38,588 INFO sqlalchemy.engine.base.Engine ()\n",
      "2019-06-19 12:20:38,589 INFO sqlalchemy.engine.base.Engine PRAGMA index_info(\"IFK_AlbumArtistId\")\n",
      "2019-06-19 12:20:38,590 INFO sqlalchemy.engine.base.Engine ()\n",
      "2019-06-19 12:20:38,591 INFO sqlalchemy.engine.base.Engine PRAGMA index_info(\"IPK_Album\")\n",
      "2019-06-19 12:20:38,592 INFO sqlalchemy.engine.base.Engine ()\n",
      "2019-06-19 12:20:38,595 INFO sqlalchemy.engine.base.Engine SELECT sql FROM  (SELECT * FROM sqlite_master UNION ALL   SELECT * FROM sqlite_temp_master) WHERE name = 'Album' AND type = 'table'\n",
      "2019-06-19 12:20:38,596 INFO sqlalchemy.engine.base.Engine ()\n",
      "2019-06-19 12:20:38,599 INFO sqlalchemy.engine.base.Engine PRAGMA index_list(\"Track\")\n",
      "2019-06-19 12:20:38,600 INFO sqlalchemy.engine.base.Engine ()\n",
      "2019-06-19 12:20:38,602 INFO sqlalchemy.engine.base.Engine PRAGMA index_info(\"IFK_TrackMediaTypeId\")\n",
      "2019-06-19 12:20:38,603 INFO sqlalchemy.engine.base.Engine ()\n",
      "2019-06-19 12:20:38,605 INFO sqlalchemy.engine.base.Engine PRAGMA index_info(\"IFK_TrackGenreId\")\n"
     ]
    },
    {
     "name": "stdout",
     "output_type": "stream",
     "text": [
      "2019-06-19 12:20:38,607 INFO sqlalchemy.engine.base.Engine ()\n",
      "2019-06-19 12:20:38,609 INFO sqlalchemy.engine.base.Engine PRAGMA index_info(\"IFK_TrackAlbumId\")\n",
      "2019-06-19 12:20:38,611 INFO sqlalchemy.engine.base.Engine ()\n",
      "2019-06-19 12:20:38,612 INFO sqlalchemy.engine.base.Engine PRAGMA index_info(\"IPK_Track\")\n",
      "2019-06-19 12:20:38,613 INFO sqlalchemy.engine.base.Engine ()\n",
      "2019-06-19 12:20:38,615 INFO sqlalchemy.engine.base.Engine PRAGMA index_list(\"Track\")\n",
      "2019-06-19 12:20:38,616 INFO sqlalchemy.engine.base.Engine ()\n",
      "2019-06-19 12:20:38,617 INFO sqlalchemy.engine.base.Engine PRAGMA index_info(\"IFK_TrackMediaTypeId\")\n",
      "2019-06-19 12:20:38,619 INFO sqlalchemy.engine.base.Engine ()\n",
      "2019-06-19 12:20:38,620 INFO sqlalchemy.engine.base.Engine PRAGMA index_info(\"IFK_TrackGenreId\")\n",
      "2019-06-19 12:20:38,620 INFO sqlalchemy.engine.base.Engine ()\n",
      "2019-06-19 12:20:38,622 INFO sqlalchemy.engine.base.Engine PRAGMA index_info(\"IFK_TrackAlbumId\")\n",
      "2019-06-19 12:20:38,622 INFO sqlalchemy.engine.base.Engine ()\n",
      "2019-06-19 12:20:38,625 INFO sqlalchemy.engine.base.Engine PRAGMA index_info(\"IPK_Track\")\n",
      "2019-06-19 12:20:38,626 INFO sqlalchemy.engine.base.Engine ()\n",
      "2019-06-19 12:20:38,628 INFO sqlalchemy.engine.base.Engine SELECT sql FROM  (SELECT * FROM sqlite_master UNION ALL   SELECT * FROM sqlite_temp_master) WHERE name = 'Track' AND type = 'table'\n",
      "2019-06-19 12:20:38,630 INFO sqlalchemy.engine.base.Engine ()\n"
     ]
    }
   ],
   "source": [
    "track = Table('Track', metadata, autoload=True, autoload_with=engine)"
   ]
  },
  {
   "cell_type": "code",
   "execution_count": 11,
   "metadata": {
    "scrolled": true
   },
   "outputs": [
    {
     "data": {
      "text/plain": [
       "Table('Track', MetaData(bind=None), Column('TrackId', INTEGER(), table=<Track>, primary_key=True, nullable=False), Column('Name', NVARCHAR(length=200), table=<Track>, nullable=False), Column('AlbumId', INTEGER(), ForeignKey('Album.AlbumId'), table=<Track>), Column('MediaTypeId', INTEGER(), ForeignKey('MediaType.MediaTypeId'), table=<Track>, nullable=False), Column('GenreId', INTEGER(), ForeignKey('Genre.GenreId'), table=<Track>), Column('Composer', NVARCHAR(length=220), table=<Track>), Column('Milliseconds', INTEGER(), table=<Track>, nullable=False), Column('Bytes', INTEGER(), table=<Track>), Column('UnitPrice', NUMERIC(precision=10, scale=2), table=<Track>, nullable=False), schema=None)"
      ]
     },
     "execution_count": 11,
     "metadata": {},
     "output_type": "execute_result"
    }
   ],
   "source": [
    "track"
   ]
  },
  {
   "cell_type": "markdown",
   "metadata": {},
   "source": [
    "Column names for a table"
   ]
  },
  {
   "cell_type": "code",
   "execution_count": 14,
   "metadata": {
    "scrolled": true
   },
   "outputs": [
    {
     "data": {
      "text/plain": [
       "['TrackId',\n",
       " 'Name',\n",
       " 'AlbumId',\n",
       " 'MediaTypeId',\n",
       " 'GenreId',\n",
       " 'Composer',\n",
       " 'Milliseconds',\n",
       " 'Bytes',\n",
       " 'UnitPrice']"
      ]
     },
     "execution_count": 14,
     "metadata": {},
     "output_type": "execute_result"
    }
   ],
   "source": [
    "track.columns.keys()"
   ]
  },
  {
   "cell_type": "markdown",
   "metadata": {},
   "source": [
    "### SQL Queries"
   ]
  },
  {
   "cell_type": "code",
   "execution_count": 16,
   "metadata": {},
   "outputs": [],
   "source": [
    "stmt = 'select * from Track'"
   ]
  },
  {
   "cell_type": "code",
   "execution_count": 17,
   "metadata": {},
   "outputs": [],
   "source": [
    "connection = engine.connect()"
   ]
  },
  {
   "cell_type": "code",
   "execution_count": 18,
   "metadata": {},
   "outputs": [
    {
     "name": "stdout",
     "output_type": "stream",
     "text": [
      "2019-06-19 13:43:07,037 INFO sqlalchemy.engine.base.Engine select * from Track\n",
      "2019-06-19 13:43:07,039 INFO sqlalchemy.engine.base.Engine ()\n"
     ]
    }
   ],
   "source": [
    "result_proxy = connection.execute(stmt)"
   ]
  },
  {
   "cell_type": "code",
   "execution_count": 19,
   "metadata": {},
   "outputs": [],
   "source": [
    "results = result_proxy.fetchall()"
   ]
  },
  {
   "cell_type": "code",
   "execution_count": 22,
   "metadata": {},
   "outputs": [],
   "source": [
    "first_row = results[0]"
   ]
  },
  {
   "cell_type": "code",
   "execution_count": 23,
   "metadata": {},
   "outputs": [
    {
     "data": {
      "text/plain": [
       "(1, 'For Those About To Rock (We Salute You)', 1, 1, 1, 'Angus Young, Malcolm Young, Brian Johnson', 343719, 11170334, 0.99)"
      ]
     },
     "execution_count": 23,
     "metadata": {},
     "output_type": "execute_result"
    }
   ],
   "source": [
    "first_row"
   ]
  },
  {
   "cell_type": "code",
   "execution_count": 25,
   "metadata": {},
   "outputs": [
    {
     "data": {
      "text/plain": [
       "['TrackId',\n",
       " 'Name',\n",
       " 'AlbumId',\n",
       " 'MediaTypeId',\n",
       " 'GenreId',\n",
       " 'Composer',\n",
       " 'Milliseconds',\n",
       " 'Bytes',\n",
       " 'UnitPrice']"
      ]
     },
     "execution_count": 25,
     "metadata": {},
     "output_type": "execute_result"
    }
   ],
   "source": [
    "first_row.keys()"
   ]
  },
  {
   "cell_type": "code",
   "execution_count": 28,
   "metadata": {},
   "outputs": [
    {
     "name": "stdout",
     "output_type": "stream",
     "text": [
      "For Those About To Rock (We Salute You) 0.99\n"
     ]
    }
   ],
   "source": [
    "print(first_row.Name, first_row.UnitPrice)"
   ]
  },
  {
   "cell_type": "code",
   "execution_count": 30,
   "metadata": {},
   "outputs": [
    {
     "data": {
      "text/plain": [
       "'Angus Young, Malcolm Young, Brian Johnson'"
      ]
     },
     "execution_count": 30,
     "metadata": {},
     "output_type": "execute_result"
    }
   ],
   "source": [
    "first_row['Composer']"
   ]
  },
  {
   "cell_type": "code",
   "execution_count": 36,
   "metadata": {},
   "outputs": [
    {
     "data": {
      "text/plain": [
       "343719"
      ]
     },
     "execution_count": 36,
     "metadata": {},
     "output_type": "execute_result"
    }
   ],
   "source": [
    "first_row[6]"
   ]
  },
  {
   "cell_type": "code",
   "execution_count": 37,
   "metadata": {},
   "outputs": [
    {
     "name": "stdout",
     "output_type": "stream",
     "text": [
      "2019-06-19 16:21:53,628 INFO sqlalchemy.engine.base.Engine SELECT name FROM sqlite_master WHERE type='table' ORDER BY name\n",
      "2019-06-19 16:21:53,629 INFO sqlalchemy.engine.base.Engine ()\n"
     ]
    },
    {
     "data": {
      "text/plain": [
       "['Album',\n",
       " 'Artist',\n",
       " 'Customer',\n",
       " 'Employee',\n",
       " 'Genre',\n",
       " 'Invoice',\n",
       " 'InvoiceLine',\n",
       " 'MediaType',\n",
       " 'Playlist',\n",
       " 'PlaylistTrack',\n",
       " 'Track']"
      ]
     },
     "execution_count": 37,
     "metadata": {},
     "output_type": "execute_result"
    }
   ],
   "source": [
    "engine.table_names()"
   ]
  },
  {
   "cell_type": "code",
   "execution_count": 38,
   "metadata": {},
   "outputs": [],
   "source": [
    "metadata = MetaData()"
   ]
  },
  {
   "cell_type": "code",
   "execution_count": 40,
   "metadata": {},
   "outputs": [
    {
     "name": "stdout",
     "output_type": "stream",
     "text": [
      "2019-06-19 16:29:57,767 INFO sqlalchemy.engine.base.Engine PRAGMA table_info(\"Album\")\n",
      "2019-06-19 16:29:57,768 INFO sqlalchemy.engine.base.Engine ()\n",
      "2019-06-19 16:29:57,771 INFO sqlalchemy.engine.base.Engine SELECT sql FROM  (SELECT * FROM sqlite_master UNION ALL   SELECT * FROM sqlite_temp_master) WHERE name = 'Album' AND type = 'table'\n",
      "2019-06-19 16:29:57,773 INFO sqlalchemy.engine.base.Engine ()\n",
      "2019-06-19 16:29:57,774 INFO sqlalchemy.engine.base.Engine PRAGMA foreign_key_list(\"Album\")\n",
      "2019-06-19 16:29:57,776 INFO sqlalchemy.engine.base.Engine ()\n",
      "2019-06-19 16:29:57,777 INFO sqlalchemy.engine.base.Engine SELECT sql FROM  (SELECT * FROM sqlite_master UNION ALL   SELECT * FROM sqlite_temp_master) WHERE name = 'Album' AND type = 'table'\n",
      "2019-06-19 16:29:57,778 INFO sqlalchemy.engine.base.Engine ()\n",
      "2019-06-19 16:29:57,780 INFO sqlalchemy.engine.base.Engine PRAGMA table_info(\"Artist\")\n",
      "2019-06-19 16:29:57,782 INFO sqlalchemy.engine.base.Engine ()\n",
      "2019-06-19 16:29:57,784 INFO sqlalchemy.engine.base.Engine SELECT sql FROM  (SELECT * FROM sqlite_master UNION ALL   SELECT * FROM sqlite_temp_master) WHERE name = 'Artist' AND type = 'table'\n",
      "2019-06-19 16:29:57,784 INFO sqlalchemy.engine.base.Engine ()\n",
      "2019-06-19 16:29:57,786 INFO sqlalchemy.engine.base.Engine PRAGMA foreign_key_list(\"Artist\")\n",
      "2019-06-19 16:29:57,787 INFO sqlalchemy.engine.base.Engine ()\n",
      "2019-06-19 16:29:57,788 INFO sqlalchemy.engine.base.Engine SELECT sql FROM  (SELECT * FROM sqlite_master UNION ALL   SELECT * FROM sqlite_temp_master) WHERE name = 'Artist' AND type = 'table'\n",
      "2019-06-19 16:29:57,789 INFO sqlalchemy.engine.base.Engine ()\n",
      "2019-06-19 16:29:57,790 INFO sqlalchemy.engine.base.Engine PRAGMA index_list(\"Artist\")\n",
      "2019-06-19 16:29:57,791 INFO sqlalchemy.engine.base.Engine ()\n",
      "2019-06-19 16:29:57,793 INFO sqlalchemy.engine.base.Engine PRAGMA index_info(\"IPK_Artist\")\n",
      "2019-06-19 16:29:57,795 INFO sqlalchemy.engine.base.Engine ()\n",
      "2019-06-19 16:29:57,797 INFO sqlalchemy.engine.base.Engine PRAGMA index_list(\"Artist\")\n",
      "2019-06-19 16:29:57,799 INFO sqlalchemy.engine.base.Engine ()\n",
      "2019-06-19 16:29:57,801 INFO sqlalchemy.engine.base.Engine PRAGMA index_info(\"IPK_Artist\")\n",
      "2019-06-19 16:29:57,804 INFO sqlalchemy.engine.base.Engine ()\n",
      "2019-06-19 16:29:57,806 INFO sqlalchemy.engine.base.Engine SELECT sql FROM  (SELECT * FROM sqlite_master UNION ALL   SELECT * FROM sqlite_temp_master) WHERE name = 'Artist' AND type = 'table'\n",
      "2019-06-19 16:29:57,806 INFO sqlalchemy.engine.base.Engine ()\n",
      "2019-06-19 16:29:57,808 INFO sqlalchemy.engine.base.Engine PRAGMA index_list(\"Album\")\n",
      "2019-06-19 16:29:57,809 INFO sqlalchemy.engine.base.Engine ()\n",
      "2019-06-19 16:29:57,810 INFO sqlalchemy.engine.base.Engine PRAGMA index_info(\"IFK_AlbumArtistId\")\n",
      "2019-06-19 16:29:57,811 INFO sqlalchemy.engine.base.Engine ()\n",
      "2019-06-19 16:29:57,813 INFO sqlalchemy.engine.base.Engine PRAGMA index_info(\"IPK_Album\")\n",
      "2019-06-19 16:29:57,813 INFO sqlalchemy.engine.base.Engine ()\n",
      "2019-06-19 16:29:57,815 INFO sqlalchemy.engine.base.Engine PRAGMA index_list(\"Album\")\n",
      "2019-06-19 16:29:57,818 INFO sqlalchemy.engine.base.Engine ()\n",
      "2019-06-19 16:29:57,820 INFO sqlalchemy.engine.base.Engine PRAGMA index_info(\"IFK_AlbumArtistId\")\n",
      "2019-06-19 16:29:57,821 INFO sqlalchemy.engine.base.Engine ()\n",
      "2019-06-19 16:29:57,822 INFO sqlalchemy.engine.base.Engine PRAGMA index_info(\"IPK_Album\")\n",
      "2019-06-19 16:29:57,823 INFO sqlalchemy.engine.base.Engine ()\n",
      "2019-06-19 16:29:57,824 INFO sqlalchemy.engine.base.Engine SELECT sql FROM  (SELECT * FROM sqlite_master UNION ALL   SELECT * FROM sqlite_temp_master) WHERE name = 'Album' AND type = 'table'\n",
      "2019-06-19 16:29:57,825 INFO sqlalchemy.engine.base.Engine ()\n",
      "2019-06-19 16:29:57,828 INFO sqlalchemy.engine.base.Engine PRAGMA table_info(\"Customer\")\n",
      "2019-06-19 16:29:57,829 INFO sqlalchemy.engine.base.Engine ()\n",
      "2019-06-19 16:29:57,831 INFO sqlalchemy.engine.base.Engine SELECT sql FROM  (SELECT * FROM sqlite_master UNION ALL   SELECT * FROM sqlite_temp_master) WHERE name = 'Customer' AND type = 'table'\n",
      "2019-06-19 16:29:57,832 INFO sqlalchemy.engine.base.Engine ()\n",
      "2019-06-19 16:29:57,833 INFO sqlalchemy.engine.base.Engine PRAGMA foreign_key_list(\"Customer\")\n",
      "2019-06-19 16:29:57,834 INFO sqlalchemy.engine.base.Engine ()\n",
      "2019-06-19 16:29:57,836 INFO sqlalchemy.engine.base.Engine SELECT sql FROM  (SELECT * FROM sqlite_master UNION ALL   SELECT * FROM sqlite_temp_master) WHERE name = 'Customer' AND type = 'table'\n",
      "2019-06-19 16:29:57,837 INFO sqlalchemy.engine.base.Engine ()\n",
      "2019-06-19 16:29:57,838 INFO sqlalchemy.engine.base.Engine PRAGMA table_info(\"Employee\")\n",
      "2019-06-19 16:29:57,839 INFO sqlalchemy.engine.base.Engine ()\n",
      "2019-06-19 16:29:57,841 INFO sqlalchemy.engine.base.Engine SELECT sql FROM  (SELECT * FROM sqlite_master UNION ALL   SELECT * FROM sqlite_temp_master) WHERE name = 'Employee' AND type = 'table'\n",
      "2019-06-19 16:29:57,843 INFO sqlalchemy.engine.base.Engine ()\n",
      "2019-06-19 16:29:57,845 INFO sqlalchemy.engine.base.Engine PRAGMA foreign_key_list(\"Employee\")\n",
      "2019-06-19 16:29:57,846 INFO sqlalchemy.engine.base.Engine ()\n",
      "2019-06-19 16:29:57,848 INFO sqlalchemy.engine.base.Engine SELECT sql FROM  (SELECT * FROM sqlite_master UNION ALL   SELECT * FROM sqlite_temp_master) WHERE name = 'Employee' AND type = 'table'\n",
      "2019-06-19 16:29:57,848 INFO sqlalchemy.engine.base.Engine ()\n",
      "2019-06-19 16:29:57,850 INFO sqlalchemy.engine.base.Engine PRAGMA index_list(\"Employee\")\n",
      "2019-06-19 16:29:57,851 INFO sqlalchemy.engine.base.Engine ()\n",
      "2019-06-19 16:29:57,852 INFO sqlalchemy.engine.base.Engine PRAGMA index_info(\"IFK_EmployeeReportsTo\")\n",
      "2019-06-19 16:29:57,854 INFO sqlalchemy.engine.base.Engine ()\n",
      "2019-06-19 16:29:57,856 INFO sqlalchemy.engine.base.Engine PRAGMA index_info(\"IPK_Employee\")\n",
      "2019-06-19 16:29:57,858 INFO sqlalchemy.engine.base.Engine ()\n",
      "2019-06-19 16:29:57,860 INFO sqlalchemy.engine.base.Engine PRAGMA index_list(\"Employee\")\n",
      "2019-06-19 16:29:57,862 INFO sqlalchemy.engine.base.Engine ()\n",
      "2019-06-19 16:29:57,864 INFO sqlalchemy.engine.base.Engine PRAGMA index_info(\"IFK_EmployeeReportsTo\")\n",
      "2019-06-19 16:29:57,865 INFO sqlalchemy.engine.base.Engine ()\n",
      "2019-06-19 16:29:57,866 INFO sqlalchemy.engine.base.Engine PRAGMA index_info(\"IPK_Employee\")\n",
      "2019-06-19 16:29:57,867 INFO sqlalchemy.engine.base.Engine ()\n",
      "2019-06-19 16:29:57,868 INFO sqlalchemy.engine.base.Engine SELECT sql FROM  (SELECT * FROM sqlite_master UNION ALL   SELECT * FROM sqlite_temp_master) WHERE name = 'Employee' AND type = 'table'\n",
      "2019-06-19 16:29:57,869 INFO sqlalchemy.engine.base.Engine ()\n",
      "2019-06-19 16:29:57,874 INFO sqlalchemy.engine.base.Engine PRAGMA index_list(\"Customer\")\n",
      "2019-06-19 16:29:57,875 INFO sqlalchemy.engine.base.Engine ()\n",
      "2019-06-19 16:29:57,877 INFO sqlalchemy.engine.base.Engine PRAGMA index_info(\"IFK_CustomerSupportRepId\")\n",
      "2019-06-19 16:29:57,877 INFO sqlalchemy.engine.base.Engine ()\n",
      "2019-06-19 16:29:57,878 INFO sqlalchemy.engine.base.Engine PRAGMA index_info(\"IPK_Customer\")\n",
      "2019-06-19 16:29:57,879 INFO sqlalchemy.engine.base.Engine ()\n",
      "2019-06-19 16:29:57,882 INFO sqlalchemy.engine.base.Engine PRAGMA index_list(\"Customer\")\n",
      "2019-06-19 16:29:57,882 INFO sqlalchemy.engine.base.Engine ()\n",
      "2019-06-19 16:29:57,884 INFO sqlalchemy.engine.base.Engine PRAGMA index_info(\"IFK_CustomerSupportRepId\")\n",
      "2019-06-19 16:29:57,884 INFO sqlalchemy.engine.base.Engine ()\n",
      "2019-06-19 16:29:57,885 INFO sqlalchemy.engine.base.Engine PRAGMA index_info(\"IPK_Customer\")\n",
      "2019-06-19 16:29:57,888 INFO sqlalchemy.engine.base.Engine ()\n",
      "2019-06-19 16:29:57,890 INFO sqlalchemy.engine.base.Engine SELECT sql FROM  (SELECT * FROM sqlite_master UNION ALL   SELECT * FROM sqlite_temp_master) WHERE name = 'Customer' AND type = 'table'\n",
      "2019-06-19 16:29:57,891 INFO sqlalchemy.engine.base.Engine ()\n",
      "2019-06-19 16:29:57,894 INFO sqlalchemy.engine.base.Engine PRAGMA table_info(\"Genre\")\n",
      "2019-06-19 16:29:57,896 INFO sqlalchemy.engine.base.Engine ()\n",
      "2019-06-19 16:29:57,899 INFO sqlalchemy.engine.base.Engine SELECT sql FROM  (SELECT * FROM sqlite_master UNION ALL   SELECT * FROM sqlite_temp_master) WHERE name = 'Genre' AND type = 'table'\n",
      "2019-06-19 16:29:57,900 INFO sqlalchemy.engine.base.Engine ()\n",
      "2019-06-19 16:29:57,901 INFO sqlalchemy.engine.base.Engine PRAGMA foreign_key_list(\"Genre\")\n",
      "2019-06-19 16:29:57,902 INFO sqlalchemy.engine.base.Engine ()\n"
     ]
    },
    {
     "name": "stdout",
     "output_type": "stream",
     "text": [
      "2019-06-19 16:29:57,905 INFO sqlalchemy.engine.base.Engine SELECT sql FROM  (SELECT * FROM sqlite_master UNION ALL   SELECT * FROM sqlite_temp_master) WHERE name = 'Genre' AND type = 'table'\n",
      "2019-06-19 16:29:57,907 INFO sqlalchemy.engine.base.Engine ()\n",
      "2019-06-19 16:29:57,909 INFO sqlalchemy.engine.base.Engine PRAGMA index_list(\"Genre\")\n",
      "2019-06-19 16:29:57,910 INFO sqlalchemy.engine.base.Engine ()\n",
      "2019-06-19 16:29:57,911 INFO sqlalchemy.engine.base.Engine PRAGMA index_info(\"IPK_Genre\")\n",
      "2019-06-19 16:29:57,912 INFO sqlalchemy.engine.base.Engine ()\n",
      "2019-06-19 16:29:57,913 INFO sqlalchemy.engine.base.Engine PRAGMA index_list(\"Genre\")\n",
      "2019-06-19 16:29:57,914 INFO sqlalchemy.engine.base.Engine ()\n",
      "2019-06-19 16:29:57,915 INFO sqlalchemy.engine.base.Engine PRAGMA index_info(\"IPK_Genre\")\n",
      "2019-06-19 16:29:57,917 INFO sqlalchemy.engine.base.Engine ()\n",
      "2019-06-19 16:29:57,918 INFO sqlalchemy.engine.base.Engine SELECT sql FROM  (SELECT * FROM sqlite_master UNION ALL   SELECT * FROM sqlite_temp_master) WHERE name = 'Genre' AND type = 'table'\n",
      "2019-06-19 16:29:57,920 INFO sqlalchemy.engine.base.Engine ()\n",
      "2019-06-19 16:29:57,922 INFO sqlalchemy.engine.base.Engine PRAGMA table_info(\"Invoice\")\n",
      "2019-06-19 16:29:57,923 INFO sqlalchemy.engine.base.Engine ()\n",
      "2019-06-19 16:29:57,926 INFO sqlalchemy.engine.base.Engine SELECT sql FROM  (SELECT * FROM sqlite_master UNION ALL   SELECT * FROM sqlite_temp_master) WHERE name = 'Invoice' AND type = 'table'\n",
      "2019-06-19 16:29:57,927 INFO sqlalchemy.engine.base.Engine ()\n",
      "2019-06-19 16:29:57,929 INFO sqlalchemy.engine.base.Engine PRAGMA foreign_key_list(\"Invoice\")\n",
      "2019-06-19 16:29:57,930 INFO sqlalchemy.engine.base.Engine ()\n",
      "2019-06-19 16:29:57,931 INFO sqlalchemy.engine.base.Engine SELECT sql FROM  (SELECT * FROM sqlite_master UNION ALL   SELECT * FROM sqlite_temp_master) WHERE name = 'Invoice' AND type = 'table'\n",
      "2019-06-19 16:29:57,933 INFO sqlalchemy.engine.base.Engine ()\n",
      "2019-06-19 16:29:57,936 INFO sqlalchemy.engine.base.Engine PRAGMA index_list(\"Invoice\")\n",
      "2019-06-19 16:29:57,936 INFO sqlalchemy.engine.base.Engine ()\n",
      "2019-06-19 16:29:57,937 INFO sqlalchemy.engine.base.Engine PRAGMA index_info(\"IFK_InvoiceCustomerId\")\n",
      "2019-06-19 16:29:57,938 INFO sqlalchemy.engine.base.Engine ()\n",
      "2019-06-19 16:29:57,940 INFO sqlalchemy.engine.base.Engine PRAGMA index_info(\"IPK_Invoice\")\n",
      "2019-06-19 16:29:57,942 INFO sqlalchemy.engine.base.Engine ()\n",
      "2019-06-19 16:29:57,945 INFO sqlalchemy.engine.base.Engine PRAGMA index_list(\"Invoice\")\n",
      "2019-06-19 16:29:57,946 INFO sqlalchemy.engine.base.Engine ()\n",
      "2019-06-19 16:29:57,947 INFO sqlalchemy.engine.base.Engine PRAGMA index_info(\"IFK_InvoiceCustomerId\")\n",
      "2019-06-19 16:29:57,947 INFO sqlalchemy.engine.base.Engine ()\n",
      "2019-06-19 16:29:57,949 INFO sqlalchemy.engine.base.Engine PRAGMA index_info(\"IPK_Invoice\")\n",
      "2019-06-19 16:29:57,949 INFO sqlalchemy.engine.base.Engine ()\n",
      "2019-06-19 16:29:57,951 INFO sqlalchemy.engine.base.Engine SELECT sql FROM  (SELECT * FROM sqlite_master UNION ALL   SELECT * FROM sqlite_temp_master) WHERE name = 'Invoice' AND type = 'table'\n",
      "2019-06-19 16:29:57,952 INFO sqlalchemy.engine.base.Engine ()\n",
      "2019-06-19 16:29:57,955 INFO sqlalchemy.engine.base.Engine PRAGMA table_info(\"InvoiceLine\")\n",
      "2019-06-19 16:29:57,956 INFO sqlalchemy.engine.base.Engine ()\n",
      "2019-06-19 16:29:57,959 INFO sqlalchemy.engine.base.Engine SELECT sql FROM  (SELECT * FROM sqlite_master UNION ALL   SELECT * FROM sqlite_temp_master) WHERE name = 'InvoiceLine' AND type = 'table'\n",
      "2019-06-19 16:29:57,960 INFO sqlalchemy.engine.base.Engine ()\n",
      "2019-06-19 16:29:57,961 INFO sqlalchemy.engine.base.Engine PRAGMA foreign_key_list(\"InvoiceLine\")\n",
      "2019-06-19 16:29:57,962 INFO sqlalchemy.engine.base.Engine ()\n",
      "2019-06-19 16:29:57,963 INFO sqlalchemy.engine.base.Engine SELECT sql FROM  (SELECT * FROM sqlite_master UNION ALL   SELECT * FROM sqlite_temp_master) WHERE name = 'InvoiceLine' AND type = 'table'\n",
      "2019-06-19 16:29:57,964 INFO sqlalchemy.engine.base.Engine ()\n",
      "2019-06-19 16:29:57,965 INFO sqlalchemy.engine.base.Engine PRAGMA table_info(\"Track\")\n",
      "2019-06-19 16:29:57,967 INFO sqlalchemy.engine.base.Engine ()\n",
      "2019-06-19 16:29:57,969 INFO sqlalchemy.engine.base.Engine SELECT sql FROM  (SELECT * FROM sqlite_master UNION ALL   SELECT * FROM sqlite_temp_master) WHERE name = 'Track' AND type = 'table'\n",
      "2019-06-19 16:29:57,970 INFO sqlalchemy.engine.base.Engine ()\n",
      "2019-06-19 16:29:57,972 INFO sqlalchemy.engine.base.Engine PRAGMA foreign_key_list(\"Track\")\n",
      "2019-06-19 16:29:57,973 INFO sqlalchemy.engine.base.Engine ()\n",
      "2019-06-19 16:29:57,975 INFO sqlalchemy.engine.base.Engine SELECT sql FROM  (SELECT * FROM sqlite_master UNION ALL   SELECT * FROM sqlite_temp_master) WHERE name = 'Track' AND type = 'table'\n",
      "2019-06-19 16:29:57,976 INFO sqlalchemy.engine.base.Engine ()\n",
      "2019-06-19 16:29:57,977 INFO sqlalchemy.engine.base.Engine PRAGMA table_info(\"MediaType\")\n",
      "2019-06-19 16:29:57,979 INFO sqlalchemy.engine.base.Engine ()\n",
      "2019-06-19 16:29:57,981 INFO sqlalchemy.engine.base.Engine SELECT sql FROM  (SELECT * FROM sqlite_master UNION ALL   SELECT * FROM sqlite_temp_master) WHERE name = 'MediaType' AND type = 'table'\n",
      "2019-06-19 16:29:57,982 INFO sqlalchemy.engine.base.Engine ()\n",
      "2019-06-19 16:29:57,984 INFO sqlalchemy.engine.base.Engine PRAGMA foreign_key_list(\"MediaType\")\n",
      "2019-06-19 16:29:57,985 INFO sqlalchemy.engine.base.Engine ()\n",
      "2019-06-19 16:29:57,986 INFO sqlalchemy.engine.base.Engine SELECT sql FROM  (SELECT * FROM sqlite_master UNION ALL   SELECT * FROM sqlite_temp_master) WHERE name = 'MediaType' AND type = 'table'\n",
      "2019-06-19 16:29:57,987 INFO sqlalchemy.engine.base.Engine ()\n",
      "2019-06-19 16:29:57,988 INFO sqlalchemy.engine.base.Engine PRAGMA index_list(\"MediaType\")\n",
      "2019-06-19 16:29:57,989 INFO sqlalchemy.engine.base.Engine ()\n",
      "2019-06-19 16:29:57,991 INFO sqlalchemy.engine.base.Engine PRAGMA index_info(\"IPK_MediaType\")\n",
      "2019-06-19 16:29:57,992 INFO sqlalchemy.engine.base.Engine ()\n",
      "2019-06-19 16:29:57,994 INFO sqlalchemy.engine.base.Engine PRAGMA index_list(\"MediaType\")\n",
      "2019-06-19 16:29:57,995 INFO sqlalchemy.engine.base.Engine ()\n",
      "2019-06-19 16:29:57,996 INFO sqlalchemy.engine.base.Engine PRAGMA index_info(\"IPK_MediaType\")\n",
      "2019-06-19 16:29:57,997 INFO sqlalchemy.engine.base.Engine ()\n",
      "2019-06-19 16:29:57,999 INFO sqlalchemy.engine.base.Engine SELECT sql FROM  (SELECT * FROM sqlite_master UNION ALL   SELECT * FROM sqlite_temp_master) WHERE name = 'MediaType' AND type = 'table'\n",
      "2019-06-19 16:29:58,000 INFO sqlalchemy.engine.base.Engine ()\n",
      "2019-06-19 16:29:58,001 INFO sqlalchemy.engine.base.Engine PRAGMA index_list(\"Track\")\n",
      "2019-06-19 16:29:58,002 INFO sqlalchemy.engine.base.Engine ()\n",
      "2019-06-19 16:29:58,004 INFO sqlalchemy.engine.base.Engine PRAGMA index_info(\"IFK_TrackMediaTypeId\")\n",
      "2019-06-19 16:29:58,005 INFO sqlalchemy.engine.base.Engine ()\n",
      "2019-06-19 16:29:58,007 INFO sqlalchemy.engine.base.Engine PRAGMA index_info(\"IFK_TrackGenreId\")\n",
      "2019-06-19 16:29:58,008 INFO sqlalchemy.engine.base.Engine ()\n",
      "2019-06-19 16:29:58,009 INFO sqlalchemy.engine.base.Engine PRAGMA index_info(\"IFK_TrackAlbumId\")\n",
      "2019-06-19 16:29:58,011 INFO sqlalchemy.engine.base.Engine ()\n",
      "2019-06-19 16:29:58,012 INFO sqlalchemy.engine.base.Engine PRAGMA index_info(\"IPK_Track\")\n",
      "2019-06-19 16:29:58,012 INFO sqlalchemy.engine.base.Engine ()\n",
      "2019-06-19 16:29:58,015 INFO sqlalchemy.engine.base.Engine PRAGMA index_list(\"Track\")\n",
      "2019-06-19 16:29:58,016 INFO sqlalchemy.engine.base.Engine ()\n",
      "2019-06-19 16:29:58,018 INFO sqlalchemy.engine.base.Engine PRAGMA index_info(\"IFK_TrackMediaTypeId\")\n",
      "2019-06-19 16:29:58,019 INFO sqlalchemy.engine.base.Engine ()\n",
      "2019-06-19 16:29:58,021 INFO sqlalchemy.engine.base.Engine PRAGMA index_info(\"IFK_TrackGenreId\")\n",
      "2019-06-19 16:29:58,024 INFO sqlalchemy.engine.base.Engine ()\n",
      "2019-06-19 16:29:58,028 INFO sqlalchemy.engine.base.Engine PRAGMA index_info(\"IFK_TrackAlbumId\")\n",
      "2019-06-19 16:29:58,029 INFO sqlalchemy.engine.base.Engine ()\n",
      "2019-06-19 16:29:58,030 INFO sqlalchemy.engine.base.Engine PRAGMA index_info(\"IPK_Track\")\n",
      "2019-06-19 16:29:58,031 INFO sqlalchemy.engine.base.Engine ()\n",
      "2019-06-19 16:29:58,033 INFO sqlalchemy.engine.base.Engine SELECT sql FROM  (SELECT * FROM sqlite_master UNION ALL   SELECT * FROM sqlite_temp_master) WHERE name = 'Track' AND type = 'table'\n"
     ]
    },
    {
     "name": "stdout",
     "output_type": "stream",
     "text": [
      "2019-06-19 16:29:58,034 INFO sqlalchemy.engine.base.Engine ()\n",
      "2019-06-19 16:29:58,037 INFO sqlalchemy.engine.base.Engine PRAGMA index_list(\"InvoiceLine\")\n",
      "2019-06-19 16:29:58,039 INFO sqlalchemy.engine.base.Engine ()\n",
      "2019-06-19 16:29:58,047 INFO sqlalchemy.engine.base.Engine PRAGMA index_info(\"IFK_InvoiceLineTrackId\")\n",
      "2019-06-19 16:29:58,048 INFO sqlalchemy.engine.base.Engine ()\n",
      "2019-06-19 16:29:58,049 INFO sqlalchemy.engine.base.Engine PRAGMA index_info(\"IFK_InvoiceLineInvoiceId\")\n",
      "2019-06-19 16:29:58,051 INFO sqlalchemy.engine.base.Engine ()\n",
      "2019-06-19 16:29:58,053 INFO sqlalchemy.engine.base.Engine PRAGMA index_info(\"IPK_InvoiceLine\")\n",
      "2019-06-19 16:29:58,054 INFO sqlalchemy.engine.base.Engine ()\n",
      "2019-06-19 16:29:58,056 INFO sqlalchemy.engine.base.Engine PRAGMA index_list(\"InvoiceLine\")\n",
      "2019-06-19 16:29:58,057 INFO sqlalchemy.engine.base.Engine ()\n",
      "2019-06-19 16:29:58,058 INFO sqlalchemy.engine.base.Engine PRAGMA index_info(\"IFK_InvoiceLineTrackId\")\n",
      "2019-06-19 16:29:58,060 INFO sqlalchemy.engine.base.Engine ()\n",
      "2019-06-19 16:29:58,063 INFO sqlalchemy.engine.base.Engine PRAGMA index_info(\"IFK_InvoiceLineInvoiceId\")\n",
      "2019-06-19 16:29:58,064 INFO sqlalchemy.engine.base.Engine ()\n",
      "2019-06-19 16:29:58,065 INFO sqlalchemy.engine.base.Engine PRAGMA index_info(\"IPK_InvoiceLine\")\n",
      "2019-06-19 16:29:58,066 INFO sqlalchemy.engine.base.Engine ()\n",
      "2019-06-19 16:29:58,067 INFO sqlalchemy.engine.base.Engine SELECT sql FROM  (SELECT * FROM sqlite_master UNION ALL   SELECT * FROM sqlite_temp_master) WHERE name = 'InvoiceLine' AND type = 'table'\n",
      "2019-06-19 16:29:58,068 INFO sqlalchemy.engine.base.Engine ()\n",
      "2019-06-19 16:29:58,072 INFO sqlalchemy.engine.base.Engine PRAGMA table_info(\"Playlist\")\n",
      "2019-06-19 16:29:58,072 INFO sqlalchemy.engine.base.Engine ()\n",
      "2019-06-19 16:29:58,074 INFO sqlalchemy.engine.base.Engine SELECT sql FROM  (SELECT * FROM sqlite_master UNION ALL   SELECT * FROM sqlite_temp_master) WHERE name = 'Playlist' AND type = 'table'\n",
      "2019-06-19 16:29:58,075 INFO sqlalchemy.engine.base.Engine ()\n",
      "2019-06-19 16:29:58,076 INFO sqlalchemy.engine.base.Engine PRAGMA foreign_key_list(\"Playlist\")\n",
      "2019-06-19 16:29:58,077 INFO sqlalchemy.engine.base.Engine ()\n",
      "2019-06-19 16:29:58,078 INFO sqlalchemy.engine.base.Engine SELECT sql FROM  (SELECT * FROM sqlite_master UNION ALL   SELECT * FROM sqlite_temp_master) WHERE name = 'Playlist' AND type = 'table'\n",
      "2019-06-19 16:29:58,080 INFO sqlalchemy.engine.base.Engine ()\n",
      "2019-06-19 16:29:58,081 INFO sqlalchemy.engine.base.Engine PRAGMA index_list(\"Playlist\")\n",
      "2019-06-19 16:29:58,081 INFO sqlalchemy.engine.base.Engine ()\n",
      "2019-06-19 16:29:58,082 INFO sqlalchemy.engine.base.Engine PRAGMA index_info(\"IPK_Playlist\")\n",
      "2019-06-19 16:29:58,085 INFO sqlalchemy.engine.base.Engine ()\n",
      "2019-06-19 16:29:58,086 INFO sqlalchemy.engine.base.Engine PRAGMA index_list(\"Playlist\")\n",
      "2019-06-19 16:29:58,087 INFO sqlalchemy.engine.base.Engine ()\n",
      "2019-06-19 16:29:58,089 INFO sqlalchemy.engine.base.Engine PRAGMA index_info(\"IPK_Playlist\")\n",
      "2019-06-19 16:29:58,091 INFO sqlalchemy.engine.base.Engine ()\n",
      "2019-06-19 16:29:58,093 INFO sqlalchemy.engine.base.Engine SELECT sql FROM  (SELECT * FROM sqlite_master UNION ALL   SELECT * FROM sqlite_temp_master) WHERE name = 'Playlist' AND type = 'table'\n",
      "2019-06-19 16:29:58,094 INFO sqlalchemy.engine.base.Engine ()\n",
      "2019-06-19 16:29:58,097 INFO sqlalchemy.engine.base.Engine PRAGMA table_info(\"PlaylistTrack\")\n",
      "2019-06-19 16:29:58,098 INFO sqlalchemy.engine.base.Engine ()\n",
      "2019-06-19 16:29:58,101 INFO sqlalchemy.engine.base.Engine SELECT sql FROM  (SELECT * FROM sqlite_master UNION ALL   SELECT * FROM sqlite_temp_master) WHERE name = 'PlaylistTrack' AND type = 'table'\n",
      "2019-06-19 16:29:58,101 INFO sqlalchemy.engine.base.Engine ()\n",
      "2019-06-19 16:29:58,103 INFO sqlalchemy.engine.base.Engine PRAGMA foreign_key_list(\"PlaylistTrack\")\n",
      "2019-06-19 16:29:58,104 INFO sqlalchemy.engine.base.Engine ()\n",
      "2019-06-19 16:29:58,105 INFO sqlalchemy.engine.base.Engine SELECT sql FROM  (SELECT * FROM sqlite_master UNION ALL   SELECT * FROM sqlite_temp_master) WHERE name = 'PlaylistTrack' AND type = 'table'\n",
      "2019-06-19 16:29:58,106 INFO sqlalchemy.engine.base.Engine ()\n",
      "2019-06-19 16:29:58,108 INFO sqlalchemy.engine.base.Engine PRAGMA index_list(\"PlaylistTrack\")\n",
      "2019-06-19 16:29:58,109 INFO sqlalchemy.engine.base.Engine ()\n",
      "2019-06-19 16:29:58,110 INFO sqlalchemy.engine.base.Engine PRAGMA index_info(\"IFK_PlaylistTrackTrackId\")\n",
      "2019-06-19 16:29:58,110 INFO sqlalchemy.engine.base.Engine ()\n",
      "2019-06-19 16:29:58,111 INFO sqlalchemy.engine.base.Engine PRAGMA index_info(\"IPK_PlaylistTrack\")\n",
      "2019-06-19 16:29:58,112 INFO sqlalchemy.engine.base.Engine ()\n",
      "2019-06-19 16:29:58,114 INFO sqlalchemy.engine.base.Engine PRAGMA index_list(\"PlaylistTrack\")\n",
      "2019-06-19 16:29:58,116 INFO sqlalchemy.engine.base.Engine ()\n",
      "2019-06-19 16:29:58,117 INFO sqlalchemy.engine.base.Engine PRAGMA index_info(\"IFK_PlaylistTrackTrackId\")\n",
      "2019-06-19 16:29:58,118 INFO sqlalchemy.engine.base.Engine ()\n",
      "2019-06-19 16:29:58,122 INFO sqlalchemy.engine.base.Engine PRAGMA index_info(\"IPK_PlaylistTrack\")\n",
      "2019-06-19 16:29:58,123 INFO sqlalchemy.engine.base.Engine ()\n",
      "2019-06-19 16:29:58,124 INFO sqlalchemy.engine.base.Engine PRAGMA index_info(\"sqlite_autoindex_PlaylistTrack_1\")\n",
      "2019-06-19 16:29:58,125 INFO sqlalchemy.engine.base.Engine ()\n",
      "2019-06-19 16:29:58,126 INFO sqlalchemy.engine.base.Engine SELECT sql FROM  (SELECT * FROM sqlite_master UNION ALL   SELECT * FROM sqlite_temp_master) WHERE name = 'PlaylistTrack' AND type = 'table'\n",
      "2019-06-19 16:29:58,128 INFO sqlalchemy.engine.base.Engine ()\n"
     ]
    }
   ],
   "source": [
    "album = Table('Album', metadata, autoload=True, autoload_with=engine)\n",
    "artist = Table('Artist', metadata, autoload=True, autoload_with=engine)\n",
    "customer = Table('Customer', metadata, autoload=True, autoload_with=engine)\n",
    "employee = Table('Employee', metadata, autoload=True, autoload_with=engine)\n",
    "genre = Table('Genre', metadata, autoload=True, autoload_with=engine)\n",
    "invoice = Table('Invoice', metadata, autoload=True, autoload_with=engine)\n",
    "invoiceline = Table('InvoiceLine', metadata, autoload=True, autoload_with=engine)\n",
    "mediatype = Table('MediaType', metadata, autoload=True, autoload_with=engine)\n",
    "playlist = Table('Playlist', metadata, autoload=True, autoload_with=engine)\n",
    "playlisttrack = Table('PlaylistTrack', metadata, autoload=True, autoload_with=engine)\n",
    "track = Table('Track', metadata, autoload=True, autoload_with=engine)"
   ]
  },
  {
   "cell_type": "code",
   "execution_count": 41,
   "metadata": {},
   "outputs": [],
   "source": [
    "from sqlalchemy import select"
   ]
  },
  {
   "cell_type": "code",
   "execution_count": 65,
   "metadata": {},
   "outputs": [],
   "source": [
    "stmt1 = select([album.c.Title])"
   ]
  },
  {
   "cell_type": "code",
   "execution_count": 66,
   "metadata": {},
   "outputs": [
    {
     "data": {
      "text/plain": [
       "<sqlalchemy.sql.selectable.Select at 0x104e66780; Select object>"
      ]
     },
     "execution_count": 66,
     "metadata": {},
     "output_type": "execute_result"
    }
   ],
   "source": [
    "stmt1"
   ]
  },
  {
   "cell_type": "code",
   "execution_count": 67,
   "metadata": {},
   "outputs": [
    {
     "name": "stdout",
     "output_type": "stream",
     "text": [
      "SELECT \"Album\".\"Title\" \n",
      "FROM \"Album\"\n"
     ]
    }
   ],
   "source": [
    "print(stmt1)"
   ]
  },
  {
   "cell_type": "code",
   "execution_count": 68,
   "metadata": {},
   "outputs": [
    {
     "name": "stdout",
     "output_type": "stream",
     "text": [
      "2019-06-19 16:36:02,603 INFO sqlalchemy.engine.base.Engine SELECT \"Album\".\"Title\" \n",
      "FROM \"Album\"\n",
      "2019-06-19 16:36:02,605 INFO sqlalchemy.engine.base.Engine ()\n"
     ]
    }
   ],
   "source": [
    "res = engine.execute(stmt1).fetchall()"
   ]
  },
  {
   "cell_type": "code",
   "execution_count": 69,
   "metadata": {},
   "outputs": [
    {
     "data": {
      "text/plain": [
       "[('For Those About To Rock We Salute You',),\n",
       " ('Balls to the Wall',),\n",
       " ('Restless and Wild',),\n",
       " ('Let There Be Rock',),\n",
       " ('Big Ones',),\n",
       " ('Jagged Little Pill',),\n",
       " ('Facelift',),\n",
       " ('Warner 25 Anos',),\n",
       " ('Plays Metallica By Four Cellos',),\n",
       " ('Audioslave',),\n",
       " ('Out Of Exile',),\n",
       " ('BackBeat Soundtrack',),\n",
       " ('The Best Of Billy Cobham',),\n",
       " ('Alcohol Fueled Brewtality Live! [Disc 1]',),\n",
       " ('Alcohol Fueled Brewtality Live! [Disc 2]',),\n",
       " ('Black Sabbath',),\n",
       " ('Black Sabbath Vol. 4 (Remaster)',),\n",
       " ('Body Count',),\n",
       " ('Chemical Wedding',),\n",
       " ('The Best Of Buddy Guy - The Millenium Collection',),\n",
       " ('Prenda Minha',),\n",
       " ('Sozinho Remix Ao Vivo',),\n",
       " ('Minha Historia',),\n",
       " ('Afrociberdelia',),\n",
       " ('Da Lama Ao Caos',),\n",
       " ('Acústico MTV [Live]',),\n",
       " ('Cidade Negra - Hits',),\n",
       " ('Na Pista',),\n",
       " ('Axé Bahia 2001',),\n",
       " ('BBC Sessions [Disc 1] [Live]',),\n",
       " ('Bongo Fury',),\n",
       " ('Carnaval 2001',),\n",
       " ('Chill: Brazil (Disc 1)',),\n",
       " ('Chill: Brazil (Disc 2)',),\n",
       " ('Garage Inc. (Disc 1)',),\n",
       " ('Greatest Hits II',),\n",
       " ('Greatest Kiss',),\n",
       " ('Heart of the Night',),\n",
       " ('International Superhits',),\n",
       " ('Into The Light',),\n",
       " ('Meus Momentos',),\n",
       " ('Minha História',),\n",
       " ('MK III The Final Concerts [Disc 1]',),\n",
       " ('Physical Graffiti [Disc 1]',),\n",
       " ('Sambas De Enredo 2001',),\n",
       " ('Supernatural',),\n",
       " ('The Best of Ed Motta',),\n",
       " ('The Essential Miles Davis [Disc 1]',),\n",
       " ('The Essential Miles Davis [Disc 2]',),\n",
       " ('The Final Concerts (Disc 2)',),\n",
       " (\"Up An' Atom\",),\n",
       " ('Vinícius De Moraes - Sem Limite',),\n",
       " ('Vozes do MPB',),\n",
       " ('Chronicle, Vol. 1',),\n",
       " ('Chronicle, Vol. 2',),\n",
       " ('Cássia Eller - Coleção Sem Limite [Disc 2]',),\n",
       " ('Cássia Eller - Sem Limite [Disc 1]',),\n",
       " ('Come Taste The Band',),\n",
       " ('Deep Purple In Rock',),\n",
       " ('Fireball',),\n",
       " (\"Knocking at Your Back Door: The Best Of Deep Purple in the 80's\",),\n",
       " ('Machine Head',),\n",
       " ('Purpendicular',),\n",
       " ('Slaves And Masters',),\n",
       " ('Stormbringer',),\n",
       " ('The Battle Rages On',),\n",
       " (\"Vault: Def Leppard's Greatest Hits\",),\n",
       " ('Outbreak',),\n",
       " ('Djavan Ao Vivo - Vol. 02',),\n",
       " ('Djavan Ao Vivo - Vol. 1',),\n",
       " ('Elis Regina-Minha História',),\n",
       " ('The Cream Of Clapton',),\n",
       " ('Unplugged',),\n",
       " ('Album Of The Year',),\n",
       " ('Angel Dust',),\n",
       " ('King For A Day Fool For A Lifetime',),\n",
       " ('The Real Thing',),\n",
       " ('Deixa Entrar',),\n",
       " ('In Your Honor [Disc 1]',),\n",
       " ('In Your Honor [Disc 2]',),\n",
       " ('One By One',),\n",
       " ('The Colour And The Shape',),\n",
       " ('My Way: The Best Of Frank Sinatra [Disc 1]',),\n",
       " ('Roda De Funk',),\n",
       " ('As Canções de Eu Tu Eles',),\n",
       " ('Quanta Gente Veio Ver (Live)',),\n",
       " ('Quanta Gente Veio ver--Bônus De Carnaval',),\n",
       " ('Faceless',),\n",
       " ('American Idiot',),\n",
       " ('Appetite for Destruction',),\n",
       " ('Use Your Illusion I',),\n",
       " ('Use Your Illusion II',),\n",
       " ('Blue Moods',),\n",
       " ('A Matter of Life and Death',),\n",
       " ('A Real Dead One',),\n",
       " ('A Real Live One',),\n",
       " ('Brave New World',),\n",
       " ('Dance Of Death',),\n",
       " ('Fear Of The Dark',),\n",
       " ('Iron Maiden',),\n",
       " ('Killers',),\n",
       " ('Live After Death',),\n",
       " ('Live At Donington 1992 (Disc 1)',),\n",
       " ('Live At Donington 1992 (Disc 2)',),\n",
       " ('No Prayer For The Dying',),\n",
       " ('Piece Of Mind',),\n",
       " ('Powerslave',),\n",
       " ('Rock In Rio [CD1]',),\n",
       " ('Rock In Rio [CD2]',),\n",
       " ('Seventh Son of a Seventh Son',),\n",
       " ('Somewhere in Time',),\n",
       " ('The Number of The Beast',),\n",
       " ('The X Factor',),\n",
       " ('Virtual XI',),\n",
       " ('Sex Machine',),\n",
       " ('Emergency On Planet Earth',),\n",
       " ('Synkronized',),\n",
       " ('The Return Of The Space Cowboy',),\n",
       " ('Get Born',),\n",
       " ('Are You Experienced?',),\n",
       " ('Surfing with the Alien (Remastered)',),\n",
       " ('Jorge Ben Jor 25 Anos',),\n",
       " ('Jota Quest-1995',),\n",
       " ('Cafezinho',),\n",
       " ('Living After Midnight',),\n",
       " ('Unplugged [Live]',),\n",
       " ('BBC Sessions [Disc 2] [Live]',),\n",
       " ('Coda',),\n",
       " ('Houses Of The Holy',),\n",
       " ('In Through The Out Door',),\n",
       " ('IV',),\n",
       " ('Led Zeppelin I',),\n",
       " ('Led Zeppelin II',),\n",
       " ('Led Zeppelin III',),\n",
       " ('Physical Graffiti [Disc 2]',),\n",
       " ('Presence',),\n",
       " ('The Song Remains The Same (Disc 1)',),\n",
       " ('The Song Remains The Same (Disc 2)',),\n",
       " ('A TempestadeTempestade Ou O Livro Dos Dias',),\n",
       " ('Mais Do Mesmo',),\n",
       " ('Greatest Hits',),\n",
       " ('Lulu Santos - RCA 100 Anos De Música - Álbum 01',),\n",
       " ('Lulu Santos - RCA 100 Anos De Música - Álbum 02',),\n",
       " ('Misplaced Childhood',),\n",
       " ('Barulhinho Bom',),\n",
       " ('Seek And Shall Find: More Of The Best (1963-1981)',),\n",
       " ('The Best Of Men At Work',),\n",
       " ('Black Album',),\n",
       " ('Garage Inc. (Disc 2)',),\n",
       " (\"Kill 'Em All\",),\n",
       " ('Load',),\n",
       " ('Master Of Puppets',),\n",
       " ('ReLoad',),\n",
       " ('Ride The Lightning',),\n",
       " ('St. Anger',),\n",
       " ('...And Justice For All',),\n",
       " ('Miles Ahead',),\n",
       " ('Milton Nascimento Ao Vivo',),\n",
       " ('Minas',),\n",
       " ('Ace Of Spades',),\n",
       " ('Demorou...',),\n",
       " ('Motley Crue Greatest Hits',),\n",
       " ('From The Muddy Banks Of The Wishkah [Live]',),\n",
       " ('Nevermind',),\n",
       " ('Compositores',),\n",
       " ('Olodum',),\n",
       " ('Acústico MTV',),\n",
       " ('Arquivo II',),\n",
       " ('Arquivo Os Paralamas Do Sucesso',),\n",
       " ('Bark at the Moon (Remastered)',),\n",
       " ('Blizzard of Ozz',),\n",
       " ('Diary of a Madman (Remastered)',),\n",
       " ('No More Tears (Remastered)',),\n",
       " ('Tribute',),\n",
       " ('Walking Into Clarksdale',),\n",
       " ('Original Soundtracks 1',),\n",
       " ('The Beast Live',),\n",
       " ('Live On Two Legs [Live]',),\n",
       " ('Pearl Jam',),\n",
       " ('Riot Act',),\n",
       " ('Ten',),\n",
       " ('Vs.',),\n",
       " ('Dark Side Of The Moon',),\n",
       " ('Os Cães Ladram Mas A Caravana Não Pára',),\n",
       " ('Greatest Hits I',),\n",
       " ('News Of The World',),\n",
       " ('Out Of Time',),\n",
       " ('Green',),\n",
       " ('New Adventures In Hi-Fi',),\n",
       " ('The Best Of R.E.M.: The IRS Years',),\n",
       " ('Cesta Básica',),\n",
       " ('Raul Seixas',),\n",
       " ('Blood Sugar Sex Magik',),\n",
       " ('By The Way',),\n",
       " ('Californication',),\n",
       " ('Retrospective I (1974-1980)',),\n",
       " ('Santana - As Years Go By',),\n",
       " ('Santana Live',),\n",
       " ('Maquinarama',),\n",
       " ('O Samba Poconé',),\n",
       " ('Judas 0: B-Sides and Rarities',),\n",
       " ('Rotten Apples: Greatest Hits',),\n",
       " ('A-Sides',),\n",
       " ('Morning Dance',),\n",
       " ('In Step',),\n",
       " ('Core',),\n",
       " ('Mezmerize',),\n",
       " ('[1997] Black Light Syndrome',),\n",
       " ('Live [Disc 1]',),\n",
       " ('Live [Disc 2]',),\n",
       " ('The Singles',),\n",
       " ('Beyond Good And Evil',),\n",
       " ('Pure Cult: The Best Of The Cult (For Rockers, Ravers, Lovers & Sinners) [UK]',),\n",
       " ('The Doors',),\n",
       " ('The Police Greatest Hits',),\n",
       " ('Hot Rocks, 1964-1971 (Disc 1)',),\n",
       " ('No Security',),\n",
       " ('Voodoo Lounge',),\n",
       " ('Tangents',),\n",
       " ('Transmission',),\n",
       " ('My Generation - The Very Best Of The Who',),\n",
       " ('Serie Sem Limite (Disc 1)',),\n",
       " ('Serie Sem Limite (Disc 2)',),\n",
       " ('Acústico',),\n",
       " ('Volume Dois',),\n",
       " ('Battlestar Galactica: The Story So Far',),\n",
       " ('Battlestar Galactica, Season 3',),\n",
       " ('Heroes, Season 1',),\n",
       " ('Lost, Season 3',),\n",
       " ('Lost, Season 1',),\n",
       " ('Lost, Season 2',),\n",
       " ('Achtung Baby',),\n",
       " (\"All That You Can't Leave Behind\",),\n",
       " ('B-Sides 1980-1990',),\n",
       " ('How To Dismantle An Atomic Bomb',),\n",
       " ('Pop',),\n",
       " ('Rattle And Hum',),\n",
       " ('The Best Of 1980-1990',),\n",
       " ('War',),\n",
       " ('Zooropa',),\n",
       " ('UB40 The Best Of - Volume Two [UK]',),\n",
       " ('Diver Down',),\n",
       " ('The Best Of Van Halen, Vol. I',),\n",
       " ('Van Halen',),\n",
       " ('Van Halen III',),\n",
       " ('Contraband',),\n",
       " ('Vinicius De Moraes',),\n",
       " ('Ao Vivo [IMPORT]',),\n",
       " ('The Office, Season 1',),\n",
       " ('The Office, Season 2',),\n",
       " ('The Office, Season 3',),\n",
       " ('Un-Led-Ed',),\n",
       " ('Battlestar Galactica (Classic), Season 1',),\n",
       " ('Aquaman',),\n",
       " ('Instant Karma: The Amnesty International Campaign to Save Darfur',),\n",
       " ('Speak of the Devil',),\n",
       " ('20th Century Masters - The Millennium Collection: The Best of Scorpions',),\n",
       " ('House of Pain',),\n",
       " ('Radio Brasil (O Som da Jovem Vanguarda) - Seleccao de Henrique Amaro',),\n",
       " ('Cake: B-Sides and Rarities',),\n",
       " ('LOST, Season 4',),\n",
       " ('Quiet Songs',),\n",
       " ('Muso Ko',),\n",
       " ('Realize',),\n",
       " ('Every Kind of Light',),\n",
       " ('Duos II',),\n",
       " ('Worlds',),\n",
       " ('The Best of Beethoven',),\n",
       " ('Temple of the Dog',),\n",
       " ('Carry On',),\n",
       " ('Revelations',),\n",
       " ('Adorate Deum: Gregorian Chant from the Proper of the Mass',),\n",
       " ('Allegri: Miserere',),\n",
       " ('Pachelbel: Canon & Gigue',),\n",
       " ('Vivaldi: The Four Seasons',),\n",
       " ('Bach: Violin Concertos',),\n",
       " ('Bach: Goldberg Variations',),\n",
       " ('Bach: The Cello Suites',),\n",
       " ('Handel: The Messiah (Highlights)',),\n",
       " ('The World of Classical Favourites',),\n",
       " ('Sir Neville Marriner: A Celebration',),\n",
       " ('Mozart: Wind Concertos',),\n",
       " ('Haydn: Symphonies 99 - 104',),\n",
       " ('Beethoven: Symhonies Nos. 5 & 6',),\n",
       " ('A Soprano Inspired',),\n",
       " ('Great Opera Choruses',),\n",
       " ('Wagner: Favourite Overtures',),\n",
       " ('Fauré: Requiem, Ravel: Pavane & Others',),\n",
       " ('Tchaikovsky: The Nutcracker',),\n",
       " ('The Last Night of the Proms',),\n",
       " ('Puccini: Madama Butterfly - Highlights',),\n",
       " ('Holst: The Planets, Op. 32 & Vaughan Williams: Fantasies',),\n",
       " (\"Pavarotti's Opera Made Easy\",),\n",
       " (\"Great Performances - Barber's Adagio and Other Romantic Favorites for Strings\",),\n",
       " ('Carmina Burana',),\n",
       " ('A Copland Celebration, Vol. I',),\n",
       " ('Bach: Toccata & Fugue in D Minor',),\n",
       " ('Prokofiev: Symphony No.1',),\n",
       " ('Scheherazade',),\n",
       " ('Bach: The Brandenburg Concertos',),\n",
       " ('Chopin: Piano Concertos Nos. 1 & 2',),\n",
       " ('Mascagni: Cavalleria Rusticana',),\n",
       " ('Sibelius: Finlandia',),\n",
       " ('Beethoven Piano Sonatas: Moonlight & Pastorale',),\n",
       " ('Great Recordings of the Century - Mahler: Das Lied von der Erde',),\n",
       " ('Elgar: Cello Concerto & Vaughan Williams: Fantasias',),\n",
       " ('Adams, John: The Chairman Dances',),\n",
       " (\"Tchaikovsky: 1812 Festival Overture, Op.49, Capriccio Italien & Beethoven: Wellington's Victory\",),\n",
       " ('Palestrina: Missa Papae Marcelli & Allegri: Miserere',),\n",
       " ('Prokofiev: Romeo & Juliet',),\n",
       " ('Strauss: Waltzes',),\n",
       " ('Berlioz: Symphonie Fantastique',),\n",
       " ('Bizet: Carmen Highlights',),\n",
       " ('English Renaissance',),\n",
       " ('Handel: Music for the Royal Fireworks (Original Version 1749)',),\n",
       " ('Grieg: Peer Gynt Suites & Sibelius: Pelléas et Mélisande',),\n",
       " ('Mozart Gala: Famous Arias',),\n",
       " ('SCRIABIN: Vers la flamme',),\n",
       " ('Armada: Music from the Courts of England and Spain',),\n",
       " ('Mozart: Symphonies Nos. 40 & 41',),\n",
       " ('Back to Black',),\n",
       " ('Frank',),\n",
       " ('Carried to Dust (Bonus Track Version)',),\n",
       " (\"Beethoven: Symphony No. 6 'Pastoral' Etc.\",),\n",
       " ('Bartok: Violin & Viola Concertos',),\n",
       " (\"Mendelssohn: A Midsummer Night's Dream\",),\n",
       " ('Bach: Orchestral Suites Nos. 1 - 4',),\n",
       " ('Charpentier: Divertissements, Airs & Concerts',),\n",
       " ('South American Getaway',),\n",
       " ('Górecki: Symphony No. 3',),\n",
       " ('Purcell: The Fairy Queen',),\n",
       " ('The Ultimate Relexation Album',),\n",
       " ('Purcell: Music for the Queen Mary',),\n",
       " ('Weill: The Seven Deadly Sins',),\n",
       " ('J.S. Bach: Chaconne, Suite in E Minor, Partita in E Major & Prelude, Fugue and Allegro',),\n",
       " ('Prokofiev: Symphony No.5 & Stravinksy: Le Sacre Du Printemps',),\n",
       " ('Szymanowski: Piano Works, Vol. 1',),\n",
       " ('Nielsen: The Six Symphonies',),\n",
       " (\"Great Recordings of the Century: Paganini's 24 Caprices\",),\n",
       " (\"Liszt - 12 Études D'Execution Transcendante\",),\n",
       " ('Great Recordings of the Century - Shubert: Schwanengesang, 4 Lieder',),\n",
       " ('Locatelli: Concertos for Violin, Strings and Continuo, Vol. 3',),\n",
       " ('Respighi:Pines of Rome',),\n",
       " (\"Schubert: The Late String Quartets & String Quintet (3 CD's)\",),\n",
       " (\"Monteverdi: L'Orfeo\",),\n",
       " ('Mozart: Chamber Music',),\n",
       " ('Koyaanisqatsi (Soundtrack from the Motion Picture)',)]"
      ]
     },
     "execution_count": 69,
     "metadata": {},
     "output_type": "execute_result"
    }
   ],
   "source": [
    "res"
   ]
  },
  {
   "cell_type": "code",
   "execution_count": null,
   "metadata": {},
   "outputs": [],
   "source": []
  }
 ],
 "metadata": {
  "kernelspec": {
   "display_name": "Python 3",
   "language": "python",
   "name": "python3"
  },
  "language_info": {
   "codemirror_mode": {
    "name": "ipython",
    "version": 3
   },
   "file_extension": ".py",
   "mimetype": "text/x-python",
   "name": "python",
   "nbconvert_exporter": "python",
   "pygments_lexer": "ipython3",
   "version": "3.7.6"
  }
 },
 "nbformat": 4,
 "nbformat_minor": 2
}
