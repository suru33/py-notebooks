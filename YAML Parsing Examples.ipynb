{
 "cells": [
  {
   "cell_type": "markdown",
   "metadata": {},
   "source": [
    "#### YAML -> JSON conversion"
   ]
  },
  {
   "cell_type": "code",
   "execution_count": 2,
   "metadata": {},
   "outputs": [],
   "source": [
    "import yaml"
   ]
  },
  {
   "cell_type": "markdown",
   "metadata": {},
   "source": [
    "#### yaml_files/example1.yaml\n",
    "------------------------------------------\n",
    "\n",
    "```yaml\n",
    "env:\n",
    "  - name: INCLUDE_TEST_PIPELINES\n",
    "    value: FALSE\n",
    "  - name: AIRFLOW_KUBE_NAMESPACE\n",
    "    valueFrom:\n",
    "      fieldRef:\n",
    "        fieldPath: metadata.namespace\n",
    "  - name: SQL_ALCHEMY_CONN\n",
    "    valueFrom:\n",
    "      secretKeyRef:\n",
    "        name: airflow-secrets\n",
    "        key: sql_alchemy_conn\n",
    "```"
   ]
  },
  {
   "cell_type": "code",
   "execution_count": 18,
   "metadata": {},
   "outputs": [],
   "source": [
    "with open(\"yaml_files/example1.yaml\", 'r') as stream:\n",
    "    try:\n",
    "        yaml1 = yaml.load(stream)\n",
    "    except yaml.YAMLError as exc:\n",
    "        print(exc)"
   ]
  },
  {
   "cell_type": "code",
   "execution_count": 19,
   "metadata": {},
   "outputs": [],
   "source": [
    "import json"
   ]
  },
  {
   "cell_type": "code",
   "execution_count": 20,
   "metadata": {},
   "outputs": [
    {
     "name": "stdout",
     "output_type": "stream",
     "text": [
      "{\n",
      "  \"env\": [\n",
      "    {\n",
      "      \"name\": \"INCLUDE_TEST_PIPELINES\",\n",
      "      \"value\": false\n",
      "    },\n",
      "    {\n",
      "      \"name\": \"AIRFLOW_KUBE_NAMESPACE\",\n",
      "      \"valueFrom\": {\n",
      "        \"fieldRef\": {\n",
      "          \"fieldPath\": \"metadata.namespace\"\n",
      "        }\n",
      "      }\n",
      "    },\n",
      "    {\n",
      "      \"name\": \"SQL_ALCHEMY_CONN\",\n",
      "      \"valueFrom\": {\n",
      "        \"secretKeyRef\": {\n",
      "          \"name\": \"airflow-secrets\",\n",
      "          \"key\": \"sql_alchemy_conn\"\n",
      "        }\n",
      "      }\n",
      "    }\n",
      "  ]\n",
      "}\n"
     ]
    }
   ],
   "source": [
    "print(json.dumps(yaml1, indent=2))"
   ]
  },
  {
   "cell_type": "markdown",
   "metadata": {},
   "source": [
    "#### yaml_files/example2.yaml\n",
    "---------\n",
    "```yaml\n",
    "invoice: 34843\n",
    "date   : '2001-01-23' # JSON doesn't support date data type thats why converted to string\n",
    "bill-to: &id001\n",
    "    given  : Chris\n",
    "    family : Dumars\n",
    "    address:\n",
    "        lines: |\n",
    "            458 Walkman Dr.\n",
    "            Suite #292\n",
    "        city    : Royal Oak\n",
    "        state   : MI\n",
    "        postal  : 48046\n",
    "ship-to: *id001\n",
    "product:\n",
    "    - sku         : BL394D\n",
    "      quantity    : 4\n",
    "      description : Basketball\n",
    "      price       : 450.00\n",
    "    - sku         : BL4438H\n",
    "      quantity    : 1\n",
    "      description : Super Hoop\n",
    "      price       : 2392.00\n",
    "tax  : 251.42\n",
    "total: 4443.52\n",
    "comments: >\n",
    "    Late afternoon is best.\n",
    "    Backup contact is Nancy\n",
    "    Billsmer @ 338-4338.\n",
    "```"
   ]
  },
  {
   "cell_type": "code",
   "execution_count": 17,
   "metadata": {},
   "outputs": [],
   "source": [
    "with open(\"yaml_files/example2.yaml\", 'r') as stream:\n",
    "    try:\n",
    "        yaml2 = yaml.load(stream)\n",
    "    except yaml.YAMLError as exc:\n",
    "        print(exc)"
   ]
  },
  {
   "cell_type": "code",
   "execution_count": 13,
   "metadata": {},
   "outputs": [
    {
     "name": "stdout",
     "output_type": "stream",
     "text": [
      "{\n",
      "  \"invoice\": 34843,\n",
      "  \"date\": \"2001-01-23\",\n",
      "  \"bill-to\": {\n",
      "    \"given\": \"Chris\",\n",
      "    \"family\": \"Dumars\",\n",
      "    \"address\": {\n",
      "      \"lines\": \"458 Walkman Dr.\\nSuite #292\\n\",\n",
      "      \"city\": \"Royal Oak\",\n",
      "      \"state\": \"MI\",\n",
      "      \"postal\": 48046\n",
      "    }\n",
      "  },\n",
      "  \"ship-to\": {\n",
      "    \"given\": \"Chris\",\n",
      "    \"family\": \"Dumars\",\n",
      "    \"address\": {\n",
      "      \"lines\": \"458 Walkman Dr.\\nSuite #292\\n\",\n",
      "      \"city\": \"Royal Oak\",\n",
      "      \"state\": \"MI\",\n",
      "      \"postal\": 48046\n",
      "    }\n",
      "  },\n",
      "  \"product\": [\n",
      "    {\n",
      "      \"sku\": \"BL394D\",\n",
      "      \"quantity\": 4,\n",
      "      \"description\": \"Basketball\",\n",
      "      \"price\": 450.0\n",
      "    },\n",
      "    {\n",
      "      \"sku\": \"BL4438H\",\n",
      "      \"quantity\": 1,\n",
      "      \"description\": \"Super Hoop\",\n",
      "      \"price\": 2392.0\n",
      "    }\n",
      "  ],\n",
      "  \"tax\": 251.42,\n",
      "  \"total\": 4443.52,\n",
      "  \"comments\": \"Late afternoon is best. Backup contact is Nancy Billsmer @ 338-4338.\"\n",
      "}\n"
     ]
    }
   ],
   "source": [
    "print(json.dumps(yaml2, indent=2))"
   ]
  },
  {
   "cell_type": "markdown",
   "metadata": {},
   "source": [
    "#### yaml_files/example3.yaml\n",
    "---\n",
    "```yaml\n",
    "env:\n",
    "    - DIR: /hello/txt\n",
    "    - USER: surendra\n",
    "    - PASSWORD: JKjsd90@lskjnf\n",
    "credentials: >\n",
    "    {\n",
    "        \"key1\": \"value1\"\n",
    "        \"key2\": \"value2\"\n",
    "    }\n",
    "temp_key: standard_key\n",
    "```"
   ]
  },
  {
   "cell_type": "code",
   "execution_count": 29,
   "metadata": {},
   "outputs": [],
   "source": [
    "with open(\"yaml_files/example3.yaml\", 'r') as stream:\n",
    "    try:\n",
    "        yaml3 = yaml.load(stream)\n",
    "    except yaml.YAMLError as exc:\n",
    "        print(exc)"
   ]
  },
  {
   "cell_type": "code",
   "execution_count": 30,
   "metadata": {},
   "outputs": [
    {
     "name": "stdout",
     "output_type": "stream",
     "text": [
      "{'env': [{'DIR': '/hello/txt'}, {'USER': 'surendra'}, {'PASSWORD': 'JKjsd90@lskjnf'}], 'credentials': '{\\n    \"key1\": \"value1\"\\n    \"key2\": \"value2\"\\n}\\n', 'temp_key': 'standard_key'}\n"
     ]
    }
   ],
   "source": [
    "print(yaml3)"
   ]
  },
  {
   "cell_type": "code",
   "execution_count": 31,
   "metadata": {},
   "outputs": [
    {
     "name": "stdout",
     "output_type": "stream",
     "text": [
      "{\n",
      "    \"key1\": \"value1\"\n",
      "    \"key2\": \"value2\"\n",
      "}\n",
      "\n"
     ]
    }
   ],
   "source": [
    "print(yaml3['credentials'])"
   ]
  },
  {
   "cell_type": "code",
   "execution_count": null,
   "metadata": {},
   "outputs": [],
   "source": []
  }
 ],
 "metadata": {
  "kernelspec": {
   "display_name": "Python 3",
   "language": "python",
   "name": "python3"
  },
  "language_info": {
   "codemirror_mode": {
    "name": "ipython",
    "version": 3
   },
   "file_extension": ".py",
   "mimetype": "text/x-python",
   "name": "python",
   "nbconvert_exporter": "python",
   "pygments_lexer": "ipython3",
   "version": "3.6.7"
  }
 },
 "nbformat": 4,
 "nbformat_minor": 2
}
