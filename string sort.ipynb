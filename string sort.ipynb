{
 "cells": [
  {
   "cell_type": "code",
   "execution_count": 1,
   "metadata": {},
   "outputs": [],
   "source": [
    "data = [\n",
    "    '/airflow/abc/dags/geofabrik-nh-dublin.pipeline.yaml',\n",
    "    '/airflow/abc/dags/rent-new-york.pipeline.yaml',\n",
    "    '/airflow/abc/dags/geofabrik-nh-seattle.pipeline.yaml',\n",
    "    '/airflow/abc/dags/geofabrik-nh-salt-lake-city.pipeline.yaml',\n",
    "    '/airflow/abc/dags/rent-seattle.pipeline.yaml',\n",
    "    '/airflow/abc/dags/geofabrik-nh-san-jose.pipeline.yaml',\n",
    "    '/airflow/abc/dags/geofabrik-nh-washington-dc.pipeline.yaml',\n",
    "    '/airflow/abc/dags/darwin-widgets-legacy.pipeline.yaml',\n",
    "    '/airflow/abc/dags/rent-vancouver.pipeline.yaml',\n",
    "    '/airflow/abc/dags/rent-palo-alto.pipeline.yaml',\n",
    "    '/airflow/abc/dags/rent-san-francisco-bay-area.pipeline.yaml',\n",
    "    '/airflow/abc/dags/geofabrik-nh-bangkok.pipeline.yaml',\n",
    "    '/airflow/abc/dags/rent-sydney.pipeline.yaml',\n",
    "    '/airflow/abc/dags/rent-berlin.pipeline.yaml',\n",
    "    '/airflow/abc/dags/geofabrik-nh-berlin.pipeline.yaml',\n",
    "    '/airflow/abc/dags/rent-singapore.pipeline.yaml',\n",
    "    '/airflow/abc/dags/geofabrik-nh-jersey-city.pipeline.yaml',\n",
    "    '/airflow/abc/dags/geofabrik-nh-pleasanton.pipeline.yaml',\n",
    "    '/airflow/abc/dags/geofabrik-nh-london.pipeline.yaml',\n",
    "    '/airflow/abc/dags/geofabrik-nh-palo-alto.pipeline.yaml',\n",
    "    '/airflow/abc/dags/rent-baltimore.pipeline.yaml',\n",
    "    '/airflow/abc/dags/rent-london.pipeline.yaml',\n",
    "    '/airflow/abc/dags/rent-san-jose.pipeline.yaml',\n",
    "    '/airflow/abc/dags/geofabrik-nh-hong-kong.pipeline.yaml',\n",
    "    '/airflow/abc/dags/geofabrik-nh-baltimore.pipeline.yaml',\n",
    "    '/airflow/abc/dags/rent-bangkok.pipeline.yaml',\n",
    "    '/airflow/abc/dags/rent-washington-dc.pipeline.yaml',\n",
    "    '/airflow/abc/dags/geofabrik-nh-vancouver.pipeline.yaml',\n",
    "    '/airflow/abc/dags/rent-salt-lake-city.pipeline.yaml',\n",
    "    '/airflow/abc/dags/geofabrik-nh-singapore.pipeline.yaml',\n",
    "    '/airflow/abc/dags/geofabrik-nh-san-francisco-bay-area.pipeline.yaml',\n",
    "    '/airflow/abc/dags/rent-jersey-city.pipeline.yaml',\n",
    "    '/airflow/abc/dags/rent-dublin.pipeline.yaml',\n",
    "    '/airflow/abc/dags/rent-hong-kong.pipeline.yaml',\n",
    "    '/airflow/abc/dags/geofabrik-nh-sydney.pipeline.yaml',\n",
    "    '/airflow/abc/dags/rent-pleasanton.pipeline.yaml',\n",
    "    '/airflow/abc/dags/geofabrik-nh-new-york.pipeline.yaml',\n",
    "    '/airflow/abc/dags/geofabrik-nh-bengaluru.pipeline.yaml',\n",
    "    '/airflow/abc/dags/rent-bengaluru.pipeline.yaml'\n",
    "]"
   ]
  },
  {
   "cell_type": "code",
   "execution_count": 3,
   "metadata": {},
   "outputs": [
    {
     "data": {
      "text/plain": [
       "['/airflow/abc/dags/darwin-widgets-legacy.pipeline.yaml',\n",
       " '/airflow/abc/dags/geofabrik-nh-baltimore.pipeline.yaml',\n",
       " '/airflow/abc/dags/geofabrik-nh-bangkok.pipeline.yaml',\n",
       " '/airflow/abc/dags/geofabrik-nh-bengaluru.pipeline.yaml',\n",
       " '/airflow/abc/dags/geofabrik-nh-berlin.pipeline.yaml',\n",
       " '/airflow/abc/dags/geofabrik-nh-dublin.pipeline.yaml',\n",
       " '/airflow/abc/dags/geofabrik-nh-hong-kong.pipeline.yaml',\n",
       " '/airflow/abc/dags/geofabrik-nh-jersey-city.pipeline.yaml',\n",
       " '/airflow/abc/dags/geofabrik-nh-london.pipeline.yaml',\n",
       " '/airflow/abc/dags/geofabrik-nh-new-york.pipeline.yaml',\n",
       " '/airflow/abc/dags/geofabrik-nh-palo-alto.pipeline.yaml',\n",
       " '/airflow/abc/dags/geofabrik-nh-pleasanton.pipeline.yaml',\n",
       " '/airflow/abc/dags/geofabrik-nh-salt-lake-city.pipeline.yaml',\n",
       " '/airflow/abc/dags/geofabrik-nh-san-francisco-bay-area.pipeline.yaml',\n",
       " '/airflow/abc/dags/geofabrik-nh-san-jose.pipeline.yaml',\n",
       " '/airflow/abc/dags/geofabrik-nh-seattle.pipeline.yaml',\n",
       " '/airflow/abc/dags/geofabrik-nh-singapore.pipeline.yaml',\n",
       " '/airflow/abc/dags/geofabrik-nh-sydney.pipeline.yaml',\n",
       " '/airflow/abc/dags/geofabrik-nh-vancouver.pipeline.yaml',\n",
       " '/airflow/abc/dags/geofabrik-nh-washington-dc.pipeline.yaml',\n",
       " '/airflow/abc/dags/rent-baltimore.pipeline.yaml',\n",
       " '/airflow/abc/dags/rent-bangkok.pipeline.yaml',\n",
       " '/airflow/abc/dags/rent-bengaluru.pipeline.yaml',\n",
       " '/airflow/abc/dags/rent-berlin.pipeline.yaml',\n",
       " '/airflow/abc/dags/rent-dublin.pipeline.yaml',\n",
       " '/airflow/abc/dags/rent-hong-kong.pipeline.yaml',\n",
       " '/airflow/abc/dags/rent-jersey-city.pipeline.yaml',\n",
       " '/airflow/abc/dags/rent-london.pipeline.yaml',\n",
       " '/airflow/abc/dags/rent-new-york.pipeline.yaml',\n",
       " '/airflow/abc/dags/rent-palo-alto.pipeline.yaml',\n",
       " '/airflow/abc/dags/rent-pleasanton.pipeline.yaml',\n",
       " '/airflow/abc/dags/rent-salt-lake-city.pipeline.yaml',\n",
       " '/airflow/abc/dags/rent-san-francisco-bay-area.pipeline.yaml',\n",
       " '/airflow/abc/dags/rent-san-jose.pipeline.yaml',\n",
       " '/airflow/abc/dags/rent-seattle.pipeline.yaml',\n",
       " '/airflow/abc/dags/rent-singapore.pipeline.yaml',\n",
       " '/airflow/abc/dags/rent-sydney.pipeline.yaml',\n",
       " '/airflow/abc/dags/rent-vancouver.pipeline.yaml',\n",
       " '/airflow/abc/dags/rent-washington-dc.pipeline.yaml']"
      ]
     },
     "execution_count": 3,
     "metadata": {},
     "output_type": "execute_result"
    }
   ],
   "source": [
    "sorted(data)"
   ]
  },
  {
   "cell_type": "code",
   "execution_count": null,
   "metadata": {},
   "outputs": [],
   "source": []
  }
 ],
 "metadata": {
  "kernelspec": {
   "display_name": "Python 3",
   "language": "python",
   "name": "python3"
  },
  "language_info": {
   "codemirror_mode": {
    "name": "ipython",
    "version": 3
   },
   "file_extension": ".py",
   "mimetype": "text/x-python",
   "name": "python",
   "nbconvert_exporter": "python",
   "pygments_lexer": "ipython3",
   "version": "3.6.7"
  }
 },
 "nbformat": 4,
 "nbformat_minor": 2
}
