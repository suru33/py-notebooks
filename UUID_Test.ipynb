{
 "cells": [
  {
   "cell_type": "code",
   "execution_count": 1,
   "metadata": {},
   "outputs": [],
   "source": [
    "import uuid"
   ]
  },
  {
   "cell_type": "code",
   "execution_count": 10,
   "metadata": {},
   "outputs": [
    {
     "data": {
      "text/plain": [
       "UUID('d2fab9a3-dc85-4377-a3eb-7d6abf8000e2')"
      ]
     },
     "execution_count": 10,
     "metadata": {},
     "output_type": "execute_result"
    }
   ],
   "source": [
    "uuid.uuid4()"
   ]
  },
  {
   "cell_type": "code",
   "execution_count": 3,
   "metadata": {},
   "outputs": [
    {
     "data": {
      "text/plain": [
       "UUID('43e6b36e-e040-4ad5-b2b4-bf12c50bfb21')"
      ]
     },
     "execution_count": 3,
     "metadata": {},
     "output_type": "execute_result"
    }
   ],
   "source": [
    "uuid.uuid4()"
   ]
  },
  {
   "cell_type": "code",
   "execution_count": 4,
   "metadata": {},
   "outputs": [
    {
     "data": {
      "text/plain": [
       "UUID('90b068a0-4db8-43bf-a1fa-81179b19cdaa')"
      ]
     },
     "execution_count": 4,
     "metadata": {},
     "output_type": "execute_result"
    }
   ],
   "source": [
    "uuid.uuid4()"
   ]
  },
  {
   "cell_type": "code",
   "execution_count": 5,
   "metadata": {},
   "outputs": [
    {
     "data": {
      "text/plain": [
       "UUID('76847695-65ff-4867-9956-ef2ccf3d83da')"
      ]
     },
     "execution_count": 5,
     "metadata": {},
     "output_type": "execute_result"
    }
   ],
   "source": [
    "uuid.uuid4()"
   ]
  },
  {
   "cell_type": "markdown",
   "metadata": {},
   "source": [
    "```py\n",
    "Signature: uuid.uuid1(node=None, clock_seq=None)\n",
    "Docstring:\n",
    "Generate a UUID from a host ID, sequence number, and the current time.\n",
    "If 'node' is not given, getnode() is used to obtain the hardware\n",
    "address.  If 'clock_seq' is given, it is used as the sequence number;\n",
    "otherwise a random 14-bit sequence number is chosen.\n",
    "```"
   ]
  },
  {
   "cell_type": "code",
   "execution_count": 8,
   "metadata": {},
   "outputs": [
    {
     "data": {
      "text/plain": [
       "UUID('2b2abcd8-7811-11e9-af71-8c8590373438')"
      ]
     },
     "execution_count": 8,
     "metadata": {},
     "output_type": "execute_result"
    }
   ],
   "source": [
    "uuid.uuid1()"
   ]
  },
  {
   "cell_type": "code",
   "execution_count": 12,
   "metadata": {},
   "outputs": [
    {
     "data": {
      "text/plain": [
       "UUID('1d42b4be-2a33-385a-bdac-40300a1c9400')"
      ]
     },
     "execution_count": 12,
     "metadata": {},
     "output_type": "execute_result"
    }
   ],
   "source": [
    "uuid.uuid3(uuid.NAMESPACE_URL, 'abx')"
   ]
  },
  {
   "cell_type": "code",
   "execution_count": 13,
   "metadata": {},
   "outputs": [
    {
     "data": {
      "text/plain": [
       "UUID('1d42b4be-2a33-385a-bdac-40300a1c9400')"
      ]
     },
     "execution_count": 13,
     "metadata": {},
     "output_type": "execute_result"
    }
   ],
   "source": [
    "uuid.uuid3(uuid.NAMESPACE_URL, 'abx')"
   ]
  },
  {
   "cell_type": "code",
   "execution_count": 14,
   "metadata": {},
   "outputs": [
    {
     "data": {
      "text/plain": [
       "UUID('6ba7b811-9dad-11d1-80b4-00c04fd430c8')"
      ]
     },
     "execution_count": 14,
     "metadata": {},
     "output_type": "execute_result"
    }
   ],
   "source": [
    "uuid.NAMESPACE_URL"
   ]
  },
  {
   "cell_type": "markdown",
   "metadata": {},
   "source": [
    "```py\n",
    "Type:        module\n",
    "String form: <module 'uuid' from '/Library/Frameworks/Python.framework/Versions/3.6/lib/python3.6/uuid.py'>\n",
    "File:        /Library/Frameworks/Python.framework/Versions/3.6/lib/python3.6/uuid.py\n",
    "Docstring:  \n",
    "UUID objects (universally unique identifiers) according to RFC 4122.\n",
    "\n",
    "This module provides immutable UUID objects (class UUID) and the functions\n",
    "uuid1(), uuid3(), uuid4(), uuid5() for generating version 1, 3, 4, and 5\n",
    "UUIDs as specified in RFC 4122.\n",
    "\n",
    "If all you want is a unique ID, you should probably call uuid1() or uuid4().\n",
    "Note that uuid1() may compromise privacy since it creates a UUID containing\n",
    "the computer's network address.  uuid4() creates a random UUID.\n",
    "\n",
    "Typical usage:\n",
    "\n",
    "    >>> import uuid\n",
    "\n",
    "    # make a UUID based on the host ID and current time\n",
    "    >>> uuid.uuid1()    # doctest: +SKIP\n",
    "    UUID('a8098c1a-f86e-11da-bd1a-00112444be1e')\n",
    "\n",
    "    # make a UUID using an MD5 hash of a namespace UUID and a name\n",
    "    >>> uuid.uuid3(uuid.NAMESPACE_DNS, 'python.org')\n",
    "    UUID('6fa459ea-ee8a-3ca4-894e-db77e160355e')\n",
    "\n",
    "    # make a random UUID\n",
    "    >>> uuid.uuid4()    # doctest: +SKIP\n",
    "    UUID('16fd2706-8baf-433b-82eb-8c7fada847da')\n",
    "\n",
    "    # make a UUID using a SHA-1 hash of a namespace UUID and a name\n",
    "    >>> uuid.uuid5(uuid.NAMESPACE_DNS, 'python.org')\n",
    "    UUID('886313e1-3b8a-5372-9b90-0c9aee199e5d')\n",
    "\n",
    "    # make a UUID from a string of hex digits (braces and hyphens ignored)\n",
    "    >>> x = uuid.UUID('{00010203-0405-0607-0809-0a0b0c0d0e0f}')\n",
    "\n",
    "    # convert a UUID to a string of hex digits in standard form\n",
    "    >>> str(x)\n",
    "    '00010203-0405-0607-0809-0a0b0c0d0e0f'\n",
    "\n",
    "    # get the raw 16 bytes of the UUID\n",
    "    >>> x.bytes\n",
    "    b'\\x00\\x01\\x02\\x03\\x04\\x05\\x06\\x07\\x08\\t\\n\\x0b\\x0c\\r\\x0e\\x0f'\n",
    "\n",
    "    # make a UUID from a 16-byte string\n",
    "    >>> uuid.UUID(bytes=x.bytes)\n",
    "    UUID('00010203-0405-0607-0809-0a0b0c0d0e0f')\n",
    "```"
   ]
  },
  {
   "cell_type": "code",
   "execution_count": null,
   "metadata": {},
   "outputs": [],
   "source": []
  }
 ],
 "metadata": {
  "kernelspec": {
   "display_name": "Python 3",
   "language": "python",
   "name": "python3"
  },
  "language_info": {
   "codemirror_mode": {
    "name": "ipython",
    "version": 3
   },
   "file_extension": ".py",
   "mimetype": "text/x-python",
   "name": "python",
   "nbconvert_exporter": "python",
   "pygments_lexer": "ipython3",
   "version": "3.6.7"
  }
 },
 "nbformat": 4,
 "nbformat_minor": 2
}
