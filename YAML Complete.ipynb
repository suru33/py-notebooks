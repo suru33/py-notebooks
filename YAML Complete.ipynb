{
 "cells": [
  {
   "cell_type": "code",
   "execution_count": 5,
   "metadata": {},
   "outputs": [],
   "source": [
    "import oyaml as yaml\n",
    "import json\n",
    "import re\n",
    "import os"
   ]
  },
  {
   "cell_type": "code",
   "execution_count": 29,
   "metadata": {},
   "outputs": [],
   "source": [
    "yaml_file = '/Users/surendra/Desktop/geofabrik-nh-berlin.pipeline.yaml'\n",
    "r = re.compile(r\"^\\$\\{(.+)\\}$\")"
   ]
  },
  {
   "cell_type": "code",
   "execution_count": 30,
   "metadata": {},
   "outputs": [],
   "source": [
    "with open(yaml_file, 'r') as f:\n",
    "    data = yaml.load(f.read())"
   ]
  },
  {
   "cell_type": "code",
   "execution_count": 31,
   "metadata": {
    "scrolled": true
   },
   "outputs": [
    {
     "name": "stdout",
     "output_type": "stream",
     "text": [
      "{\n",
      "  \"name\": \"geofabrik-nh-berlin\",\n",
      "  \"enable\": true,\n",
      "  \"steps\": [\n",
      "    {\n",
      "      \"name\": \"run-geofabrik-nh-cruncher\",\n",
      "      \"type\": \"${K8S_POD}\",\n",
      "      \"image\": \"${GNH_IMAGE_NAME}\",\n",
      "      \"env\": {\n",
      "        \"UA\": \"${UA}\",\n",
      "        \"ENV\": \"${ENV}\",\n",
      "        \"FETCHER_ACCESS_TOKEN\": \"${TEST_ACCESS_TOKEN}\",\n",
      "        \"DATA_DATE\": \"${START_DATE}\",\n",
      "        \"TELEPORT_GEOFABRIK_DATA_DIR\": \"/geofabrik-nh-data\",\n",
      "        \"TELEPORT_POPULATION_DATA_DIR\": \"/population-data\",\n",
      "        \"S3_CACHE_DIR\": \"${S3_CACHE_DIR}\"\n",
      "      },\n",
      "      \"volumes\": [\n",
      "        {\n",
      "          \"NAME\": \"geofabrik-cruncher-output-pv\",\n",
      "          \"CLAIM_NAME\": \"geofabrik-cruncher-output-pvc\",\n",
      "          \"MOUNT_PATH\": \"/geofabrik-nh-data\"\n",
      "        },\n",
      "        {\n",
      "          \"NAME\": \"population-data-local-pv\",\n",
      "          \"CLAIM_NAME\": \"population-data-local-pvc\",\n",
      "          \"MOUNT_PATH\": \"/population-data\"\n",
      "        },\n",
      "        {\n",
      "          \"NAME\": \"${CACHE_PV_NAME}\",\n",
      "          \"CLAIM_NAME\": \"${CACHE_PVC_NAME}\",\n",
      "          \"MOUNT_PATH\": \"${S3_CACHE_DIR}\"\n",
      "        }\n",
      "      ]\n",
      "    },\n",
      "    {\n",
      "      \"name\": \"${S3_UPLOAD_STEP_NAME}\",\n",
      "      \"type\": \"${K8S_POD}\",\n",
      "      \"image\": \"${DL_IMAGE_NAME}\",\n",
      "      \"env\": {\n",
      "        \"AWS_ACCESS_KEY_ID\": \"${TEST_AWS_ACCESS}\",\n",
      "        \"AWS_SECRET_ACCESS_KEY\": \"${TEST_AWS_SECRET}\",\n",
      "        \"DATALAKE_URL\": \"${DATALAKE_URL}\",\n",
      "        \"DATALAKE_REPOSITORY\": \"geofabrik-nh-berlin\",\n",
      "        \"DATALAKE_INPUT_FOLDER\": \"/data/berlin\"\n",
      "      },\n",
      "      \"volumes\": [\n",
      "        {\n",
      "          \"NAME\": \"geofabrik-cruncher-output-pv\",\n",
      "          \"CLAIM_NAME\": \"geofabrik-cruncher-output-pvc\",\n",
      "          \"MOUNT_PATH\": \"/data\"\n",
      "        }\n",
      "      ],\n",
      "      \"dependencies\": [\n",
      "        \"run-geofabrik-nh-cruncher\"\n",
      "      ]\n",
      "    }\n",
      "  ]\n",
      "}\n"
     ]
    }
   ],
   "source": [
    "print(json.dumps(data, indent=2))"
   ]
  },
  {
   "cell_type": "code",
   "execution_count": 38,
   "metadata": {},
   "outputs": [],
   "source": [
    "# def substitute_env(d):\n",
    "#     for k, v in d.items():\n",
    "#         print(k, ':', v, type(v))\n",
    "#         if type(v) is dict:\n",
    "#             substitute_env(v)\n",
    "#         else:\n",
    "#             result = r.search(str(v))\n",
    "#             if result:\n",
    "#                 env_key = result.group(1)\n",
    "#                 env_val = os.environ.get(env_key, '')\n",
    "#                 d[k] = env_val\n",
    "#                 print(k, ':', d[k])\n",
    "#         print('---------------------------------------------')"
   ]
  },
  {
   "cell_type": "code",
   "execution_count": 41,
   "metadata": {},
   "outputs": [],
   "source": [
    "def substitute_env(d):\n",
    "    if isinstance(d, dict):\n",
    "        for k, v in d.items():\n",
    "            if isinstance(v, dict) or isinstance(v, list):\n",
    "                substitute_env(v)\n",
    "            else:\n",
    "                result = r.search(str(v))\n",
    "    elif isinstance(d, list):\n",
    "        for v in d:\n",
    "            substitute_env(v)\n",
    "    else:\n",
    "        result = r.search(str(d))\n",
    "        if result:\n",
    "            env_key = result.group(1)\n",
    "            env_val = os.environ.get(env_key, '')\n",
    "            d = env_val\n",
    "            print(d)\n",
    "    print('---------------------------------')"
   ]
  },
  {
   "cell_type": "code",
   "execution_count": 42,
   "metadata": {},
   "outputs": [
    {
     "name": "stdout",
     "output_type": "stream",
     "text": [
      "<class 'dict'>\n",
      "---------------------------------\n",
      "---------------------------------\n",
      "<class 'dict'>\n",
      "---------------------------------\n",
      "k8s-test-pod\n",
      "---------------------------------\n",
      "geofabrik-nk-test-image\n",
      "---------------------------------\n",
      "<class 'dict'>\n",
      "seattle\n",
      "---------------------------------\n",
      "test-fetcher\n",
      "---------------------------------\n",
      "B48FA33574EFAD63F42F8BA66916211D5AB24E8AFFD48B249DE5BBA1E7\n",
      "---------------------------------\n",
      "2016-10-02\n",
      "---------------------------------\n",
      "---------------------------------\n",
      "---------------------------------\n",
      "/Users/surendra/.fetcher/cache\n",
      "---------------------------------\n",
      "---------------------------------\n",
      "<class 'dict'>\n",
      "---------------------------------\n",
      "---------------------------------\n",
      "---------------------------------\n",
      "---------------------------------\n",
      "<class 'dict'>\n",
      "---------------------------------\n",
      "---------------------------------\n",
      "---------------------------------\n",
      "---------------------------------\n",
      "<class 'dict'>\n",
      "test_cache_pv\n",
      "---------------------------------\n",
      "test_cache_pvc_2\n",
      "---------------------------------\n",
      "/Users/surendra/.fetcher/cache\n",
      "---------------------------------\n",
      "---------------------------------\n",
      "---------------------------------\n",
      "---------------------------------\n",
      "<class 'dict'>\n",
      "upload-data-to-s3\n",
      "---------------------------------\n",
      "k8s-test-pod\n",
      "---------------------------------\n",
      "datalake-test-0\n",
      "---------------------------------\n",
      "<class 'dict'>\n",
      "5XkhKWhEYcdIsV9hTsYIQkRPfHMhNFjP\n",
      "---------------------------------\n",
      "hsRMU0DWMyV92mwOjfiy2pcs9FCYUAlN\n",
      "---------------------------------\n",
      "s3://topia-datalake\n",
      "---------------------------------\n",
      "---------------------------------\n",
      "---------------------------------\n",
      "---------------------------------\n",
      "<class 'dict'>\n",
      "---------------------------------\n",
      "---------------------------------\n",
      "---------------------------------\n",
      "---------------------------------\n",
      "---------------------------------\n",
      "---------------------------------\n",
      "---------------------------------\n",
      "---------------------------------\n",
      "---------------------------------\n",
      "---------------------------------\n"
     ]
    }
   ],
   "source": [
    "substitute_env(data)"
   ]
  },
  {
   "cell_type": "code",
   "execution_count": 18,
   "metadata": {},
   "outputs": [
    {
     "data": {
      "text/plain": [
       "'B48FA33574EFAD63F42F8BA66916211D5AB24E8AFFD48B249DE5BBA1E7'"
      ]
     },
     "execution_count": 18,
     "metadata": {},
     "output_type": "execute_result"
    }
   ],
   "source": [
    "os.environ.get('TEST_ACCESS_TOKEN', '')"
   ]
  },
  {
   "cell_type": "code",
   "execution_count": 43,
   "metadata": {},
   "outputs": [
    {
     "data": {
      "text/plain": [
       "{'name': 'geofabrik-nh-berlin',\n",
       " 'enable': True,\n",
       " 'steps': [{'name': 'run-geofabrik-nh-cruncher',\n",
       "   'type': '${K8S_POD}',\n",
       "   'image': '${GNH_IMAGE_NAME}',\n",
       "   'env': {'UA': '${UA}',\n",
       "    'ENV': '${ENV}',\n",
       "    'FETCHER_ACCESS_TOKEN': '${TEST_ACCESS_TOKEN}',\n",
       "    'DATA_DATE': '${START_DATE}',\n",
       "    'TELEPORT_GEOFABRIK_DATA_DIR': '/geofabrik-nh-data',\n",
       "    'TELEPORT_POPULATION_DATA_DIR': '/population-data',\n",
       "    'S3_CACHE_DIR': '${S3_CACHE_DIR}'},\n",
       "   'volumes': [{'NAME': 'geofabrik-cruncher-output-pv',\n",
       "     'CLAIM_NAME': 'geofabrik-cruncher-output-pvc',\n",
       "     'MOUNT_PATH': '/geofabrik-nh-data'},\n",
       "    {'NAME': 'population-data-local-pv',\n",
       "     'CLAIM_NAME': 'population-data-local-pvc',\n",
       "     'MOUNT_PATH': '/population-data'},\n",
       "    {'NAME': '${CACHE_PV_NAME}',\n",
       "     'CLAIM_NAME': '${CACHE_PVC_NAME}',\n",
       "     'MOUNT_PATH': '${S3_CACHE_DIR}'}]},\n",
       "  {'name': '${S3_UPLOAD_STEP_NAME}',\n",
       "   'type': '${K8S_POD}',\n",
       "   'image': '${DL_IMAGE_NAME}',\n",
       "   'env': {'AWS_ACCESS_KEY_ID': '${TEST_AWS_ACCESS}',\n",
       "    'AWS_SECRET_ACCESS_KEY': '${TEST_AWS_SECRET}',\n",
       "    'DATALAKE_URL': '${DATALAKE_URL}',\n",
       "    'DATALAKE_REPOSITORY': 'geofabrik-nh-berlin',\n",
       "    'DATALAKE_INPUT_FOLDER': '/data/berlin'},\n",
       "   'volumes': [{'NAME': 'geofabrik-cruncher-output-pv',\n",
       "     'CLAIM_NAME': 'geofabrik-cruncher-output-pvc',\n",
       "     'MOUNT_PATH': '/data'}],\n",
       "   'dependencies': ['run-geofabrik-nh-cruncher']}]}"
      ]
     },
     "execution_count": 43,
     "metadata": {},
     "output_type": "execute_result"
    }
   ],
   "source": [
    "data"
   ]
  },
  {
   "cell_type": "code",
   "execution_count": null,
   "metadata": {},
   "outputs": [],
   "source": []
  }
 ],
 "metadata": {
  "kernelspec": {
   "display_name": "Python 3",
   "language": "python",
   "name": "python3"
  },
  "language_info": {
   "codemirror_mode": {
    "name": "ipython",
    "version": 3
   },
   "file_extension": ".py",
   "mimetype": "text/x-python",
   "name": "python",
   "nbconvert_exporter": "python",
   "pygments_lexer": "ipython3",
   "version": "3.6.7"
  }
 },
 "nbformat": 4,
 "nbformat_minor": 2
}
