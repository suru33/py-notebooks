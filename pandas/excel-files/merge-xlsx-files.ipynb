{
 "cells": [
  {
   "source": [
    "## Merge multiple `.xlsx` into new file\n",
    "\n",
    "Install following python libraries:\n",
    "\n",
    "- `pip3 install pandas`\n",
    "- `pip3 install openpyxl`"
   ],
   "cell_type": "markdown",
   "metadata": {}
  },
  {
   "cell_type": "code",
   "execution_count": 1,
   "id": "rental-album",
   "metadata": {},
   "outputs": [],
   "source": [
    "import pandas as pd\n",
    "import os"
   ]
  },
  {
   "cell_type": "code",
   "execution_count": 2,
   "id": "upper-reverse",
   "metadata": {},
   "outputs": [],
   "source": [
    "excel_engine = 'openpyxl'\n",
    "\n",
    "src = [\n",
    "    'file-1.xlsx',\n",
    "    'file-2.xlsx',\n",
    "    'file-3.xlsx',\n",
    "    'file-4.xlsx',\n",
    "    'file-5.xlsx',\n",
    "]\n",
    "\n",
    "dest = 'final_file.xlsx'"
   ]
  },
  {
   "cell_type": "code",
   "execution_count": 4,
   "metadata": {},
   "outputs": [],
   "source": [
    "dfs = {}\n",
    "for f in src:\n",
    "    sheet = os.path.basename(f)\n",
    "    dfs[sheet] = pd.read_excel(f, engine=excel_engine, header=None)"
   ]
  },
  {
   "cell_type": "code",
   "execution_count": null,
   "metadata": {},
   "outputs": [],
   "source": [
    "writer = pd.ExcelWriter(dest, engine=excel_engine)\n",
    "for sheet, df in dfs.items():\n",
    "    df.to_excel(writer, sheet_name=sheet, index=False, header=None)\n",
    "    print(f'Writing sheet \"{sheet}\" done!')\n",
    "\n",
    "writer.save()\n",
    "print(f'File created: {dest}')"
   ]
  }
 ],
 "metadata": {
  "kernelspec": {
   "name": "python394jvsc74a57bd0aee8b7b246df8f9039afb4144a1f6fd8d2ca17a180786b69acc140d282b71a49",
   "display_name": "Python 3.9.4 64-bit"
  },
  "language_info": {
   "codemirror_mode": {
    "name": "ipython",
    "version": 3
   },
   "file_extension": ".py",
   "mimetype": "text/x-python",
   "name": "python",
   "nbconvert_exporter": "python",
   "pygments_lexer": "ipython3",
   "version": "3.9.4"
  },
  "metadata": {
   "interpreter": {
    "hash": "aee8b7b246df8f9039afb4144a1f6fd8d2ca17a180786b69acc140d282b71a49"
   }
  }
 },
 "nbformat": 4,
 "nbformat_minor": 5
}