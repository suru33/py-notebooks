{
  "nbformat": 4,
  "nbformat_minor": 0,
  "metadata": {
    "kernelspec": {
      "display_name": "Python 3",
      "language": "python",
      "name": "python3"
    },
    "language_info": {
      "codemirror_mode": {
        "name": "ipython",
        "version": 3
      },
      "file_extension": ".py",
      "mimetype": "text/x-python",
      "name": "python",
      "nbconvert_exporter": "python",
      "pygments_lexer": "ipython3",
      "version": "3.6.7"
    },
    "colab": {
      "name": "python_random.ipynb",
      "provenance": [],
      "collapsed_sections": [],
      "toc_visible": true,
      "include_colab_link": true
    }
  },
  "cells": [
    {
      "cell_type": "markdown",
      "metadata": {
        "id": "view-in-github",
        "colab_type": "text"
      },
      "source": [
        "<a href=\"https://colab.research.google.com/github/suru33/py-notebooks/blob/master/python_random.ipynb\" target=\"_parent\"><img src=\"https://colab.research.google.com/assets/colab-badge.svg\" alt=\"Open In Colab\"/></a>"
      ]
    },
    {
      "cell_type": "code",
      "metadata": {
        "id": "aFZEwEwWZr06",
        "colab_type": "code",
        "colab": {}
      },
      "source": [
        "import random"
      ],
      "execution_count": null,
      "outputs": []
    },
    {
      "cell_type": "markdown",
      "metadata": {
        "id": "TpeF8zTzZr0-",
        "colab_type": "text"
      },
      "source": [
        "#### `Random float x, 0.0 <= x < 1.0`"
      ]
    },
    {
      "cell_type": "code",
      "metadata": {
        "id": "YG9qW2zFZr0_",
        "colab_type": "code",
        "colab": {
          "base_uri": "https://localhost:8080/",
          "height": 36
        },
        "outputId": "3151a50b-3bf8-409a-b882-fe69542d111f"
      },
      "source": [
        "random.random()"
      ],
      "execution_count": null,
      "outputs": [
        {
          "output_type": "execute_result",
          "data": {
            "text/plain": [
              "0.053553674538470486"
            ]
          },
          "metadata": {
            "tags": []
          },
          "execution_count": 2
        }
      ]
    },
    {
      "cell_type": "code",
      "metadata": {
        "id": "9oeXe1Z1Zr1B",
        "colab_type": "code",
        "colab": {
          "base_uri": "https://localhost:8080/",
          "height": 36
        },
        "outputId": "457f076a-e79c-4eb3-9642-d3e9f2178282"
      },
      "source": [
        "for _ in range(5):\n",
        "    print(random.random(), end=', ')"
      ],
      "execution_count": null,
      "outputs": [
        {
          "output_type": "stream",
          "text": [
            "0.7317995303800583, 0.005211361985788643, 0.8291503424771355, 0.7140203869479699, 0.25672423294336477, "
          ],
          "name": "stdout"
        }
      ]
    },
    {
      "cell_type": "markdown",
      "metadata": {
        "id": "oC8Jt5IOZr1D",
        "colab_type": "text"
      },
      "source": [
        "#### `Random float x, 1.0 <= x < 10.0`"
      ]
    },
    {
      "cell_type": "code",
      "metadata": {
        "id": "Pm91_08YZr1E",
        "colab_type": "code",
        "colab": {
          "base_uri": "https://localhost:8080/",
          "height": 36
        },
        "outputId": "1c851f3f-37d5-4661-b1a6-94a3486b3b20"
      },
      "source": [
        "for _ in range(5):\n",
        "    print(random.uniform(1, 10), end=', ')"
      ],
      "execution_count": null,
      "outputs": [
        {
          "output_type": "stream",
          "text": [
            "9.394198435390571, 8.782745919298971, 3.545005764765288, 6.464777582671992, 8.084868989292833, "
          ],
          "name": "stdout"
        }
      ]
    },
    {
      "cell_type": "markdown",
      "metadata": {
        "id": "qaBzxhdgZr1K",
        "colab_type": "text"
      },
      "source": [
        "#### `Integer from 1 to 10, endpoints included`"
      ]
    },
    {
      "cell_type": "code",
      "metadata": {
        "id": "9TjGwcckZr1K",
        "colab_type": "code",
        "colab": {
          "base_uri": "https://localhost:8080/",
          "height": 36
        },
        "outputId": "7202f8a2-916f-4c4b-89f8-63775813ad18"
      },
      "source": [
        "random.randint(1, 10)"
      ],
      "execution_count": null,
      "outputs": [
        {
          "output_type": "execute_result",
          "data": {
            "text/plain": [
              "9"
            ]
          },
          "metadata": {
            "tags": []
          },
          "execution_count": 5
        }
      ]
    },
    {
      "cell_type": "code",
      "metadata": {
        "id": "YiVSaSq1Zr1N",
        "colab_type": "code",
        "colab": {
          "base_uri": "https://localhost:8080/",
          "height": 36
        },
        "outputId": "57ac5f8f-38a8-4326-bb74-2ec8cd859043"
      },
      "source": [
        "for _ in range(10):\n",
        "    print(random.randint(1, 10), end=', ')"
      ],
      "execution_count": null,
      "outputs": [
        {
          "output_type": "stream",
          "text": [
            "5, 10, 10, 6, 3, 4, 10, 1, 7, 2, "
          ],
          "name": "stdout"
        }
      ]
    },
    {
      "cell_type": "code",
      "metadata": {
        "id": "6AVjOEG1Zr1P",
        "colab_type": "code",
        "colab": {
          "base_uri": "https://localhost:8080/",
          "height": 36
        },
        "outputId": "b45dcfe0-22d6-4c70-c520-ce89ccfc7be9"
      },
      "source": [
        "for _ in range(20):\n",
        "    print(random.randint(1, 1000), end=', ')"
      ],
      "execution_count": null,
      "outputs": [
        {
          "output_type": "stream",
          "text": [
            "85, 834, 373, 607, 953, 493, 621, 142, 13, 559, 115, 513, 993, 790, 736, 212, 57, 814, 989, 30, "
          ],
          "name": "stdout"
        }
      ]
    },
    {
      "cell_type": "markdown",
      "metadata": {
        "id": "9t8Y-KkvZr1R",
        "colab_type": "text"
      },
      "source": [
        "#### `Random number in a range with a step`\n",
        "```py\n",
        "random.randrange(start, stop=None, step=1, _int=<class 'int'>)\n",
        "```"
      ]
    },
    {
      "cell_type": "code",
      "metadata": {
        "id": "0ZQ58t7eZr1R",
        "colab_type": "code",
        "colab": {
          "base_uri": "https://localhost:8080/",
          "height": 36
        },
        "outputId": "82f937db-1cdc-42a5-e65c-b295f5d3f8ca"
      },
      "source": [
        "# random even numners between 0 to 100\n",
        "\n",
        "for _ in range(20):\n",
        "    print(random.randrange(0, 101, 2), end=', ')"
      ],
      "execution_count": null,
      "outputs": [
        {
          "output_type": "stream",
          "text": [
            "96, 40, 84, 26, 22, 64, 98, 14, 4, 36, 2, 2, 2, 56, 36, 82, 70, 12, 26, 34, "
          ],
          "name": "stdout"
        }
      ]
    },
    {
      "cell_type": "code",
      "metadata": {
        "id": "LpFWI6MlZr1T",
        "colab_type": "code",
        "colab": {
          "base_uri": "https://localhost:8080/",
          "height": 36
        },
        "outputId": "5572a202-1adb-4763-d742-5805a00b8b3f"
      },
      "source": [
        "# random 5 divisibles between 0 to 5000\n",
        "\n",
        "for _ in range(20):\n",
        "    print(random.randrange(0, 5000, 5), end=', ')"
      ],
      "execution_count": null,
      "outputs": [
        {
          "output_type": "stream",
          "text": [
            "3160, 2905, 1405, 390, 1320, 2810, 940, 4970, 1400, 40, 815, 4915, 4100, 2540, 195, 2840, 2900, 2340, 3615, 80, "
          ],
          "name": "stdout"
        }
      ]
    },
    {
      "cell_type": "markdown",
      "metadata": {
        "id": "qQpRU67dZr1W",
        "colab_type": "text"
      },
      "source": [
        "#### Random choice"
      ]
    },
    {
      "cell_type": "code",
      "metadata": {
        "id": "wWpAdKPgZr1X",
        "colab_type": "code",
        "colab": {
          "base_uri": "https://localhost:8080/",
          "height": 36
        },
        "outputId": "c7e059be-a11e-4933-9610-b7894b964677"
      },
      "source": [
        "random.choice('abcdefghij')"
      ],
      "execution_count": null,
      "outputs": [
        {
          "output_type": "execute_result",
          "data": {
            "text/plain": [
              "'a'"
            ]
          },
          "metadata": {
            "tags": []
          },
          "execution_count": 10
        }
      ]
    },
    {
      "cell_type": "code",
      "metadata": {
        "id": "Onay8g3EZr1Z",
        "colab_type": "code",
        "colab": {
          "base_uri": "https://localhost:8080/",
          "height": 36
        },
        "outputId": "64aff752-e582-427c-9a07-a2c421f41f9b"
      },
      "source": [
        "my_list = ['John', 'Sia', 'Kane', 'Mark', 'Lilly', 'Drew', 'Greg', \n",
        "           'Peet', 'Sally', 'Rocket', 'Tony', 'Bill', 'Steve', 'Tom']\n",
        "random.choice(my_list)"
      ],
      "execution_count": null,
      "outputs": [
        {
          "output_type": "execute_result",
          "data": {
            "text/plain": [
              "'Tom'"
            ]
          },
          "metadata": {
            "tags": []
          },
          "execution_count": 11
        }
      ]
    },
    {
      "cell_type": "code",
      "metadata": {
        "id": "G0e_yBU_Zr1b",
        "colab_type": "code",
        "colab": {
          "base_uri": "https://localhost:8080/",
          "height": 112
        },
        "outputId": "2280d681-7fbd-4ec3-a950-2ea544a495ca"
      },
      "source": [
        "for _ in range(5):\n",
        "    print(random.choice(my_list))"
      ],
      "execution_count": null,
      "outputs": [
        {
          "output_type": "stream",
          "text": [
            "Tony\n",
            "Mark\n",
            "John\n",
            "Kane\n",
            "Sia\n"
          ],
          "name": "stdout"
        }
      ]
    },
    {
      "cell_type": "markdown",
      "metadata": {
        "id": "SfUvs5ngZr1d",
        "colab_type": "text"
      },
      "source": [
        "#### Shuffle"
      ]
    },
    {
      "cell_type": "code",
      "metadata": {
        "id": "COWsmZVPZr1e",
        "colab_type": "code",
        "colab": {}
      },
      "source": [
        "my_numbers = [0, 1, 2, 3, 4, 5, 6, 7, 8, 9]"
      ],
      "execution_count": null,
      "outputs": []
    },
    {
      "cell_type": "code",
      "metadata": {
        "id": "555LUBqdZr1g",
        "colab_type": "code",
        "colab": {
          "base_uri": "https://localhost:8080/",
          "height": 36
        },
        "outputId": "22ea6687-4176-465a-da7f-c5be2a547e21"
      },
      "source": [
        "random.shuffle(my_numbers)\n",
        "my_numbers"
      ],
      "execution_count": null,
      "outputs": [
        {
          "output_type": "execute_result",
          "data": {
            "text/plain": [
              "[0, 7, 9, 1, 8, 3, 5, 2, 6, 4]"
            ]
          },
          "metadata": {
            "tags": []
          },
          "execution_count": 14
        }
      ]
    },
    {
      "cell_type": "code",
      "metadata": {
        "id": "oIgsyFE7Zr1i",
        "colab_type": "code",
        "colab": {
          "base_uri": "https://localhost:8080/",
          "height": 36
        },
        "outputId": "5c2c8427-2bd7-4baa-d6d8-60b30bc31bdf"
      },
      "source": [
        "random.shuffle(my_numbers)\n",
        "my_numbers"
      ],
      "execution_count": null,
      "outputs": [
        {
          "output_type": "execute_result",
          "data": {
            "text/plain": [
              "[2, 67, 87, 4, 7, 345, 6, 32]"
            ]
          },
          "metadata": {
            "tags": []
          },
          "execution_count": 17
        }
      ]
    },
    {
      "cell_type": "markdown",
      "metadata": {
        "id": "_oQvyup2Zr1j",
        "colab_type": "text"
      },
      "source": [
        "#### Sample"
      ]
    },
    {
      "cell_type": "code",
      "metadata": {
        "id": "RuMLFnE_Zr1k",
        "colab_type": "code",
        "colab": {
          "base_uri": "https://localhost:8080/",
          "height": 36
        },
        "outputId": "9803f3fe-50cf-4fad-c262-c4340cceaa60"
      },
      "source": [
        "my_numbers = [32, 4, 6, 7, 345, 87, 2, 67]\n",
        "random.sample(my_numbers, 5) # get a sample of 5 from list"
      ],
      "execution_count": null,
      "outputs": [
        {
          "output_type": "execute_result",
          "data": {
            "text/plain": [
              "[6, 32, 345, 2, 4]"
            ]
          },
          "metadata": {
            "tags": []
          },
          "execution_count": 18
        }
      ]
    },
    {
      "cell_type": "code",
      "metadata": {
        "id": "i62GIBgBZr1o",
        "colab_type": "code",
        "colab": {
          "base_uri": "https://localhost:8080/",
          "height": 36
        },
        "outputId": "e9bab1ee-072b-4d9f-ed46-af52f12d2a4d"
      },
      "source": [
        "random.sample(my_list, 4) # 4 random items from a list"
      ],
      "execution_count": null,
      "outputs": [
        {
          "output_type": "execute_result",
          "data": {
            "text/plain": [
              "['Bill', 'Greg', 'Mark', 'Kane']"
            ]
          },
          "metadata": {
            "tags": []
          },
          "execution_count": 19
        }
      ]
    },
    {
      "cell_type": "code",
      "metadata": {
        "id": "RMPda1UBZr1u",
        "colab_type": "code",
        "colab": {}
      },
      "source": [
        ""
      ],
      "execution_count": null,
      "outputs": []
    }
  ]
}