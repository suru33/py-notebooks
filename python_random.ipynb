{
 "cells": [
  {
   "cell_type": "code",
   "execution_count": 1,
   "metadata": {},
   "outputs": [],
   "source": [
    "import random"
   ]
  },
  {
   "cell_type": "markdown",
   "metadata": {},
   "source": [
    "#### `Random float x, 0.0 <= x < 1.0`"
   ]
  },
  {
   "cell_type": "code",
   "execution_count": 2,
   "metadata": {},
   "outputs": [
    {
     "data": {
      "text/plain": [
       "0.4925795205879041"
      ]
     },
     "execution_count": 2,
     "metadata": {},
     "output_type": "execute_result"
    }
   ],
   "source": [
    "random.random()"
   ]
  },
  {
   "cell_type": "code",
   "execution_count": 21,
   "metadata": {},
   "outputs": [
    {
     "name": "stdout",
     "output_type": "stream",
     "text": [
      "0.12087320415313196, 0.1969174772035317, 0.5084069128340184, 0.3772487936188492, 0.9835615703196272, 0.5139572239641957, 0.00568772921234717, 0.5819419669552475, 0.3147239970847052, 0.9833665412665971, 0.02961994402971113, 0.4270873620408535, 0.5679840683359276, 0.19558840121501497, 0.7049160679376987, 0.6676022817525366, 0.8880794266417494, 0.3883583525776797, 0.09226311436922918, "
     ]
    }
   ],
   "source": [
    "for _ in range(1, 20):\n",
    "    print(random.random(), end=', ')"
   ]
  },
  {
   "cell_type": "markdown",
   "metadata": {},
   "source": [
    "#### `Random float x, 1.0 <= x < 10.0`"
   ]
  },
  {
   "cell_type": "code",
   "execution_count": 4,
   "metadata": {},
   "outputs": [
    {
     "data": {
      "text/plain": [
       "4.6744587891871054"
      ]
     },
     "execution_count": 4,
     "metadata": {},
     "output_type": "execute_result"
    }
   ],
   "source": [
    "random.uniform(1, 10)"
   ]
  },
  {
   "cell_type": "code",
   "execution_count": 5,
   "metadata": {},
   "outputs": [
    {
     "data": {
      "text/plain": [
       "4.586123984178995"
      ]
     },
     "execution_count": 5,
     "metadata": {},
     "output_type": "execute_result"
    }
   ],
   "source": [
    "random.uniform(1, 10)"
   ]
  },
  {
   "cell_type": "code",
   "execution_count": 6,
   "metadata": {},
   "outputs": [
    {
     "data": {
      "text/plain": [
       "5.676944487362391"
      ]
     },
     "execution_count": 6,
     "metadata": {},
     "output_type": "execute_result"
    }
   ],
   "source": [
    "random.uniform(1, 10)"
   ]
  },
  {
   "cell_type": "markdown",
   "metadata": {},
   "source": [
    "#### `Integer from 1 to 10, endpoints included`"
   ]
  },
  {
   "cell_type": "code",
   "execution_count": 7,
   "metadata": {},
   "outputs": [
    {
     "data": {
      "text/plain": [
       "2"
      ]
     },
     "execution_count": 7,
     "metadata": {},
     "output_type": "execute_result"
    }
   ],
   "source": [
    "random.randint(1, 10)"
   ]
  },
  {
   "cell_type": "code",
   "execution_count": 16,
   "metadata": {},
   "outputs": [
    {
     "name": "stdout",
     "output_type": "stream",
     "text": [
      "8, 4, 7, 7, 2, 7, 4, 3, 3, "
     ]
    }
   ],
   "source": [
    "for _ in range(1, 10):\n",
    "    print(random.randint(1, 10), end=', ')"
   ]
  },
  {
   "cell_type": "code",
   "execution_count": 17,
   "metadata": {},
   "outputs": [
    {
     "name": "stdout",
     "output_type": "stream",
     "text": [
      "841, 686, 741, 24, 909, 851, 762, 242, 979, 216, 692, 324, 854, 240, 532, 668, 912, 905, 100, 214, 786, 618, 334, 670, 498, 854, 584, 576, 782, 517, 875, 301, 385, 13, 334, 327, 566, 745, 844, 839, 80, 969, 926, 333, 303, 137, 68, 42, 87, "
     ]
    }
   ],
   "source": [
    "for _ in range(1, 50):\n",
    "    print(random.randint(1, 1000), end=', ')"
   ]
  },
  {
   "cell_type": "markdown",
   "metadata": {},
   "source": [
    "#### `Random number in a range with a step`\n",
    "```py\n",
    "random.randrange(start, stop=None, step=1, _int=<class 'int'>)\n",
    "```"
   ]
  },
  {
   "cell_type": "code",
   "execution_count": 49,
   "metadata": {},
   "outputs": [
    {
     "name": "stdout",
     "output_type": "stream",
     "text": [
      "72, 0, 24, 80, 36, 22, 18, 74, 82, 12, 4, 84, 48, 24, 62, 60, 98, 94, 32, 2, 10, 34, 40, 46, 28, 72, 72, 90, 22, 52, 56, 48, 72, 58, 46, 50, 36, 8, 78, 54, 14, 88, 40, 2, 98, 16, 46, 52, 26, 92, 20, 44, 80, 68, 10, 32, 100, 92, 24, 74, 88, 98, 76, 52, 90, 60, 50, 78, 14, 80, 50, 90, 48, 74, 32, 4, 2, 80, 0, 28, 26, 42, 26, 92, 80, 24, 70, 28, 42, 4, 100, 4, 70, 88, 32, 68, 20, 34, 0, 6, "
     ]
    }
   ],
   "source": [
    "# random even numners between 0 to 100\n",
    "\n",
    "for _ in range(100):\n",
    "    print(random.randrange(0, 101, 2), end=', ')"
   ]
  },
  {
   "cell_type": "code",
   "execution_count": 47,
   "metadata": {},
   "outputs": [
    {
     "name": "stdout",
     "output_type": "stream",
     "text": [
      "4055, 1445, 145, 2590, 2480, 1400, 860, 3705, 2720, 3105, 1210, 155, 2010, 3050, 4555, 2340, 2530, 3170, 4760, 2265, 4170, 4990, 255, 2925, 3590, 4410, 1605, 4630, 1810, 1205, 2735, 390, 4835, 1915, 1975, 4165, 875, 4495, 2540, 2260, 2320, 330, 1065, 3645, 3635, 4055, 3500, 3500, 655, 3365, 2660, 2075, 2455, 2920, 2800, 75, 4955, 1775, 2705, 4550, 3460, 830, 1145, 140, 3945, 1760, 560, 1480, 3930, 515, 2390, 1740, 3330, 3230, 100, 4805, 3470, 4550, 3950, 4315, 2485, 1770, 2410, 2310, 1735, 3765, 800, 2660, 2035, 2800, 2490, 1560, 3770, 2620, 4065, 3295, 4045, 2585, 2085, 3530, "
     ]
    }
   ],
   "source": [
    "# random 5 divisibles between 0 to 5000\n",
    "\n",
    "for _ in range(100):\n",
    "    print(random.randrange(0, 5000, 5), end=', ')"
   ]
  },
  {
   "cell_type": "markdown",
   "metadata": {},
   "source": [
    "#### Random choice"
   ]
  },
  {
   "cell_type": "code",
   "execution_count": 50,
   "metadata": {},
   "outputs": [
    {
     "data": {
      "text/plain": [
       "'g'"
      ]
     },
     "execution_count": 50,
     "metadata": {},
     "output_type": "execute_result"
    }
   ],
   "source": [
    "random.choice('abcdefghij')"
   ]
  },
  {
   "cell_type": "code",
   "execution_count": 53,
   "metadata": {},
   "outputs": [
    {
     "data": {
      "text/plain": [
       "'Tony'"
      ]
     },
     "execution_count": 53,
     "metadata": {},
     "output_type": "execute_result"
    }
   ],
   "source": [
    "my_list = ['John', 'Sia', 'Kane', 'Mark', 'Lilly', 'Drew', 'Greg', \n",
    "           'Peet', 'Sally', 'Rocket', 'Tony', 'Bill', 'Steve', 'Tom']\n",
    "random.choice(my_list)"
   ]
  },
  {
   "cell_type": "code",
   "execution_count": 54,
   "metadata": {},
   "outputs": [
    {
     "name": "stdout",
     "output_type": "stream",
     "text": [
      "Lilly\n",
      "Rocket\n",
      "Peet\n",
      "Kane\n",
      "Sally\n"
     ]
    }
   ],
   "source": [
    "for _ in range(5):\n",
    "    print(random.choice(my_list))"
   ]
  },
  {
   "cell_type": "markdown",
   "metadata": {},
   "source": [
    "#### Shuffle"
   ]
  },
  {
   "cell_type": "code",
   "execution_count": 55,
   "metadata": {},
   "outputs": [],
   "source": [
    "my_numbers = [0, 1, 2, 3, 4, 5, 6, 7, 8, 9]"
   ]
  },
  {
   "cell_type": "code",
   "execution_count": 61,
   "metadata": {},
   "outputs": [
    {
     "data": {
      "text/plain": [
       "[7, 5, 8, 9, 4, 0, 2, 1, 3, 6]"
      ]
     },
     "execution_count": 61,
     "metadata": {},
     "output_type": "execute_result"
    }
   ],
   "source": [
    "random.shuffle(my_numbers)\n",
    "my_numbers"
   ]
  },
  {
   "cell_type": "code",
   "execution_count": 60,
   "metadata": {},
   "outputs": [
    {
     "data": {
      "text/plain": [
       "[6, 5, 2, 0, 1, 4, 3, 7, 9, 8]"
      ]
     },
     "execution_count": 60,
     "metadata": {},
     "output_type": "execute_result"
    }
   ],
   "source": [
    "random.shuffle(my_numbers)\n",
    "my_numbers"
   ]
  },
  {
   "cell_type": "markdown",
   "metadata": {},
   "source": [
    "#### Sample"
   ]
  },
  {
   "cell_type": "code",
   "execution_count": 63,
   "metadata": {},
   "outputs": [
    {
     "data": {
      "text/plain": [
       "[2, 32, 7, 87, 67]"
      ]
     },
     "execution_count": 63,
     "metadata": {},
     "output_type": "execute_result"
    }
   ],
   "source": [
    "my_numbers = [32, 4, 6, 7, 345, 87, 2, 67]\n",
    "random.sample(my_numbers, 5) # get a sample of 5 from list"
   ]
  },
  {
   "cell_type": "code",
   "execution_count": 64,
   "metadata": {},
   "outputs": [
    {
     "data": {
      "text/plain": [
       "['John', 'Bill', 'Peet', 'Sia']"
      ]
     },
     "execution_count": 64,
     "metadata": {},
     "output_type": "execute_result"
    }
   ],
   "source": [
    "random.sample(my_list, 4) # 4 random items from a list"
   ]
  },
  {
   "cell_type": "code",
   "execution_count": null,
   "metadata": {},
   "outputs": [],
   "source": []
  }
 ],
 "metadata": {
  "kernelspec": {
   "display_name": "Python 3",
   "language": "python",
   "name": "python3"
  },
  "language_info": {
   "codemirror_mode": {
    "name": "ipython",
    "version": 3
   },
   "file_extension": ".py",
   "mimetype": "text/x-python",
   "name": "python",
   "nbconvert_exporter": "python",
   "pygments_lexer": "ipython3",
   "version": "3.6.7"
  }
 },
 "nbformat": 4,
 "nbformat_minor": 2
}
