{
 "cells": [
  {
   "cell_type": "markdown",
   "metadata": {},
   "source": [
    "# matplotlib style reference"
   ]
  },
  {
   "cell_type": "markdown",
   "metadata": {},
   "source": [
    "### buit-in color codes\n",
    "- `b: blue`\n",
    "- `g: green`\n",
    "- `r: red`\n",
    "- `c: cyan`\n",
    "- `m: magenta`\n",
    "- `y: yellow`\n",
    "- `k: black`\n",
    "- `w: white`"
   ]
  },
  {
   "cell_type": "markdown",
   "metadata": {},
   "source": [
    "### linestyle\n",
    "\n",
    "```py\n",
    "':'   ->   ..................................\n",
    "'-.'  ->   -.-.-.-.-.-.-.-.-.-.-.-.-.-.-.-.-.\n",
    "```"
   ]
  },
  {
   "cell_type": "code",
   "execution_count": null,
   "metadata": {},
   "outputs": [],
   "source": []
  }
 ],
 "metadata": {
  "kernelspec": {
   "display_name": "Python 3",
   "language": "python",
   "name": "python3"
  },
  "language_info": {
   "codemirror_mode": {
    "name": "ipython",
    "version": 3
   },
   "file_extension": ".py",
   "mimetype": "text/x-python",
   "name": "python",
   "nbconvert_exporter": "python",
   "pygments_lexer": "ipython3",
   "version": "3.6.7"
  }
 },
 "nbformat": 4,
 "nbformat_minor": 2
}
